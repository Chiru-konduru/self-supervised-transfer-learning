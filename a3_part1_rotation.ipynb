{
 "cells": [
  {
   "cell_type": "markdown",
   "metadata": {
    "id": "IWMWW8Ab_345"
   },
   "source": [
    "# (Optional) Colab Setup\n",
    "If you aren't using Colab, you can delete the following code cell. This is just to help students with mounting to Google Drive to access the other .py files and downloading the data, which is a little trickier on Colab than on your local machine using Jupyter. "
   ]
  },
  {
   "cell_type": "code",
   "execution_count": 1,
   "metadata": {
    "colab": {
     "base_uri": "https://localhost:8080/",
     "height": 0
    },
    "id": "vH4wc4iD_6w_",
    "outputId": "91db08ca-edc0-468e-e83b-b782794d41ed"
   },
   "outputs": [
    {
     "name": "stdout",
     "output_type": "stream",
     "text": [
      "Mounted at /content/drive\n"
     ]
    }
   ],
   "source": [
    "# you will be prompted with a window asking to grant permissions\n",
    "from google.colab import drive\n",
    "drive.mount(\"/content/drive\")"
   ]
  },
  {
   "cell_type": "code",
   "execution_count": 2,
   "metadata": {
    "colab": {
     "base_uri": "https://localhost:8080/",
     "height": 0
    },
    "id": "XpNsPHZc_879",
    "outputId": "7e359721-ffef-4d4f-c482-c64a8afedd97"
   },
   "outputs": [
    {
     "name": "stdout",
     "output_type": "stream",
     "text": [
      "/content/drive/MyDrive/assignment3_starter/assignment3_part1\n"
     ]
    }
   ],
   "source": [
    "# fill in the path in your Google Drive in the string below. Note: do not escape slashes or spaces\n",
    "import os\n",
    "datadir = \"/content/drive/MyDrive/assignment3_starter/assignment3_part1\"\n",
    "if not os.path.exists(datadir):\n",
    "  !ln -s \"/content/drive/MyDrive/assignment3_starter/assignment3_part1\" $datadir # TODO: Fill your A3 path\n",
    "os.chdir(datadir)\n",
    "!pwd\n",
    "#\"/content/drive/My Drive/path/to/your/assignment3_starter/assignment3_part1\"\n",
    "#/content/drive/MyDrive/assignment3_starter/assignment3_part1"
   ]
  },
  {
   "cell_type": "markdown",
   "metadata": {
    "id": "Um5DJvBwb6xT"
   },
   "source": [
    "#Data Setup\n",
    "\n",
    "The first thing to do is implement a dataset class to load rotated CIFAR10 images with matching labels. Since there is already a CIFAR10 dataset class implemented in `torchvision`, we will extend this class and modify the `__get_item__` method appropriately to load rotated images.\n",
    "\n",
    "Each rotation label should be an integer in the set {0, 1, 2, 3} which correspond to rotations of 0, 90, 180, or 270 degrees respectively."
   ]
  },
  {
   "cell_type": "code",
   "execution_count": null,
   "metadata": {
    "id": "oHkeNUOKiFbP"
   },
   "outputs": [],
   "source": [
    "import torch\n",
    "import torchvision\n",
    "import torchvision.transforms as transforms\n",
    "import numpy as np\n",
    "import random\n",
    "\n",
    "\n",
    "def rotate_img(img, rot):\n",
    "    if rot == 0: # 0 degrees rotation\n",
    "        return img\n",
    "    elif rot == 1: # 90 degrees rotation\n",
    "        return torch.rot90(img.permute(1,2,0), 3).permute(2,0,1)\n",
    "    elif rot == 2: # 180 degrees rotation\n",
    "        return torch.rot90(img, 2)\n",
    "    elif rot == 3: # 270 degrees rotation\n",
    "        return torch.rot90(img.permute(1,2,0), 1).permute(2,0,1)\n",
    "    \n",
    "    # TODO: Implement rotate_img() - return the rotated img\n",
    "    #\n",
    "    #\n",
    "    #\n",
    "    else:\n",
    "        raise ValueError('rotation should be 0, 90, 180, or 270 degrees')\n",
    "\n",
    "\n",
    "class CIFAR10Rotation(torchvision.datasets.CIFAR10):\n",
    "\n",
    "    def __init__(self, root, train, download, transform) -> None:\n",
    "        super().__init__(root=root, train=train, download=download, transform=transform)\n",
    "    \n",
    "    def __len__(self):\n",
    "        return len(self.data)\n",
    "    \n",
    "    def __getitem__(self, index: int):\n",
    "        image, cls_label = super().__getitem__(index)\n",
    "\n",
    "        # randomly select image rotation\n",
    "        rotation_label = random.choice([0, 1, 2, 3])\n",
    "        image_rotated = rotate_img(image, rotation_label)\n",
    "\n",
    "        rotation_label = torch.tensor(rotation_label).long()\n",
    "        return image, image_rotated, rotation_label, torch.tensor(cls_label).long()"
   ]
  },
  {
   "cell_type": "code",
   "execution_count": null,
   "metadata": {
    "colab": {
     "base_uri": "https://localhost:8080/"
    },
    "id": "CCBSpNWpb8uw",
    "outputId": "70a086db-9edf-4bc5-bc08-2cd20811894c"
   },
   "outputs": [
    {
     "name": "stdout",
     "output_type": "stream",
     "text": [
      "Files already downloaded and verified\n",
      "Files already downloaded and verified\n"
     ]
    }
   ],
   "source": [
    "transform_train = transforms.Compose([\n",
    "    transforms.RandomCrop(32, padding=4),\n",
    "    transforms.RandomHorizontalFlip(),\n",
    "    transforms.ToTensor(),\n",
    "    transforms.Normalize((0.4914, 0.4822, 0.4465), (0.2023, 0.1994, 0.2010)),\n",
    "])\n",
    "\n",
    "transform_test = transforms.Compose([\n",
    "    transforms.ToTensor(),\n",
    "    transforms.Normalize((0.4914, 0.4822, 0.4465), (0.2023, 0.1994, 0.2010)),\n",
    "])\n",
    "\n",
    "batch_size = 128\n",
    "\n",
    "trainset = CIFAR10Rotation(root='./data', train=True,\n",
    "                                        download=True, transform=transform_train)\n",
    "trainloader = torch.utils.data.DataLoader(trainset, batch_size=batch_size,\n",
    "                                          shuffle=True, num_workers=2)\n",
    "\n",
    "testset = CIFAR10Rotation(root='./data', train=False,\n",
    "                                       download=True, transform=transform_test)\n",
    "testloader = torch.utils.data.DataLoader(testset, batch_size=batch_size,\n",
    "                                         shuffle=False, num_workers=2)"
   ]
  },
  {
   "cell_type": "markdown",
   "metadata": {
    "id": "dOCWMyGhVOJB"
   },
   "source": [
    "Show some example images and rotated images with labels:"
   ]
  },
  {
   "cell_type": "code",
   "execution_count": null,
   "metadata": {
    "colab": {
     "base_uri": "https://localhost:8080/",
     "height": 430
    },
    "id": "A9wN4BJWVMzB",
    "outputId": "903f25af-ea4a-4a3e-a9a7-90d99f72d997"
   },
   "outputs": [
    {
     "name": "stderr",
     "output_type": "stream",
     "text": [
      "WARNING:matplotlib.image:Clipping input data to the valid range for imshow with RGB data ([0..1] for floats or [0..255] for integers).\n"
     ]
    },
    {
     "data": {
      "image/png": "[encoded data removed]",
      "text/plain": [
       "<Figure size 640x480 with 1 Axes>"
      ]
     },
     "metadata": {},
     "output_type": "display_data"
    },
    {
     "name": "stderr",
     "output_type": "stream",
     "text": [
      "WARNING:matplotlib.image:Clipping input data to the valid range for imshow with RGB data ([0..1] for floats or [0..255] for integers).\n"
     ]
    },
    {
     "name": "stdout",
     "output_type": "stream",
     "text": [
      "Class labels:  truck plane frog  horse\n"
     ]
    },
    {
     "data": {
      "image/png": "[encoded data removed]",
      "text/plain": [
       "<Figure size 640x480 with 1 Axes>"
      ]
     },
     "metadata": {},
     "output_type": "display_data"
    },
    {
     "name": "stdout",
     "output_type": "stream",
     "text": [
      "Rotation labels:  270   180   180   0    \n"
     ]
    }
   ],
   "source": [
    "import matplotlib.pyplot as plt\n",
    "\n",
    "classes = ('plane', 'car', 'bird', 'cat',\n",
    "           'deer', 'dog', 'frog', 'horse', 'ship', 'truck')\n",
    "\n",
    "rot_classes = ('0', '90', '180', '270')\n",
    "\n",
    "\n",
    "def imshow(img):\n",
    "    # unnormalize\n",
    "    img = transforms.Normalize((0, 0, 0), (1/0.2023, 1/0.1994, 1/0.2010))(img)\n",
    "    img = transforms.Normalize((-0.4914, -0.4822, -0.4465), (1, 1, 1))(img)\n",
    "    npimg = img.numpy()\n",
    "    plt.imshow(np.transpose(npimg, (1, 2, 0)))\n",
    "    plt.show()\n",
    "\n",
    "\n",
    "dataiter = iter(trainloader)\n",
    "images, rot_images, rot_labels, labels = next(dataiter)\n",
    "\n",
    "# print images and rotated images\n",
    "img_grid = imshow(torchvision.utils.make_grid(images[:4], padding=0))\n",
    "print('Class labels: ', ' '.join(f'{classes[labels[j]]:5s}' for j in range(4)))\n",
    "img_grid = imshow(torchvision.utils.make_grid(rot_images[:4], padding=0))\n",
    "print('Rotation labels: ', ' '.join(f'{rot_classes[rot_labels[j]]:5s}' for j in range(4)))"
   ]
  },
  {
   "cell_type": "markdown",
   "metadata": {
    "id": "unCucbHexG4W"
   },
   "source": [
    "#Evaluation code"
   ]
  },
  {
   "cell_type": "code",
   "execution_count": null,
   "metadata": {
    "id": "pptQRpqK0rOl"
   },
   "outputs": [],
   "source": [
    "import time\n",
    "\n",
    "def run_test(net, testloader, criterion, task):\n",
    "    correct = 0\n",
    "    total = 0\n",
    "    avg_test_loss = 0.0\n",
    "    # since we're not training, we don't need to calculate the gradients for our outputs\n",
    "    with torch.no_grad():\n",
    "        for images, images_rotated, labels, cls_labels in testloader:\n",
    "            if task == 'rotation':\n",
    "              images, labels = images_rotated.to(device), labels.to(device)\n",
    "            elif task == 'classification':\n",
    "              images, labels = images.to(device), cls_labels.to(device)\n",
    "            # TODO: Calculate outputs by running images through the network\n",
    "            # The class with the highest energy is what we choose as prediction\n",
    "            #\n",
    "            #\n",
    "            #\n",
    "            # Calculate outputs by running images through the network\n",
    "\n",
    "\n",
    "            outputs = net(images)\n",
    "            _, predicted = torch.max(outputs.data, 1)\n",
    "\n",
    "            #correct += labels.size(0)\n",
    "            total += labels.size(0)\n",
    "            # loss\n",
    "            correct += (predicted == labels).sum().item()\n",
    "            avg_test_loss += criterion(outputs, labels)  / len(testloader)\n",
    "            \n",
    "            # doubt on below line\n",
    "            #total += avg_test_loss\n",
    "\n",
    "\n",
    "    print('TESTING:')\n",
    "    print(f'Accuracy of the network on the 10000 test images: {(100 * correct) / total:.2f} %')\n",
    "    print(f'Average loss on the 10000 test images: {avg_test_loss:.3f}')"
   ]
  },
  {
   "cell_type": "code",
   "execution_count": null,
   "metadata": {
    "id": "hf698c16A9k5"
   },
   "outputs": [],
   "source": [
    "def adjust_learning_rate(optimizer, epoch, init_lr, decay_epochs=30):\n",
    "    \"\"\"Sets the learning rate to the initial LR decayed by 10 every 30 epochs\"\"\"\n",
    "    lr = init_lr * (0.1 ** (epoch // decay_epochs))\n",
    "    for param_group in optimizer.param_groups:\n",
    "        param_group['lr'] = lr"
   ]
  },
  {
   "cell_type": "markdown",
   "metadata": {
    "id": "3lYdnb1Wsta_"
   },
   "source": [
    "#Train a ResNet18 on the rotation task\n",
    "\n",
    "In this section, we will train a ResNet18 model on the rotation task. The input is a rotated image and the model predicts the rotation label. See the Data Setup section for details."
   ]
  },
  {
   "cell_type": "code",
   "execution_count": null,
   "metadata": {
    "colab": {
     "base_uri": "https://localhost:8080/",
     "height": 35
    },
    "id": "knAiwdURvBHk",
    "outputId": "f4a185cb-1010-482c-ea47-2dd6fd6ad2c9"
   },
   "outputs": [
    {
     "data": {
      "application/vnd.google.colaboratory.intrinsic+json": {
       "type": "string"
      },
      "text/plain": [
       "'cuda'"
      ]
     },
     "execution_count": 8,
     "metadata": {},
     "output_type": "execute_result"
    }
   ],
   "source": [
    "#device = 'cuda' if torch.cuda.is_available() else 'cpu'\n",
    "\n",
    "\n",
    "device = 'cuda' if torch.cuda.is_available() else 'cpu'\n",
    "\n",
    "device"
   ]
  },
  {
   "cell_type": "code",
   "execution_count": null,
   "metadata": {
    "id": "235MEIUgsv65"
   },
   "outputs": [],
   "source": [
    "import torch.nn as nn\n",
    "import torch.nn.functional as F\n",
    "\n",
    "from torchvision.models import resnet18\n",
    "\n",
    "net = resnet18(num_classes=4)\n",
    "net = net.to(device)"
   ]
  },
  {
   "cell_type": "code",
   "execution_count": null,
   "metadata": {
    "id": "Vuhiw0ZoszAd"
   },
   "outputs": [],
   "source": [
    "import torch.optim as optim\n",
    "criterion = nn.CrossEntropyLoss()\n",
    "optimizer = optim.SGD(net.parameters(), lr=0.1, momentum=0.9, weight_decay=5e-4)\n",
    "\n"
   ]
  },
  {
   "cell_type": "code",
   "execution_count": null,
   "metadata": {
    "id": "WleH-YBgs0rq"
   },
   "outputs": [],
   "source": [
    "# Both the self-supervised rotation task and supervised CIFAR10 classification are\n",
    "# trained with the CrossEntropyLoss, so we can use the training loop code.\n",
    "\n",
    "def train(net, criterion, optimizer, num_epochs, decay_epochs, init_lr, task):\n",
    "\n",
    "    for epoch in range(num_epochs):  # loop over the dataset multiple times\n",
    "\n",
    "        running_loss = 0.0\n",
    "        running_correct = 0.0\n",
    "        running_total = 0.0\n",
    "        start_time = time.time()\n",
    "\n",
    "        net.train()\n",
    "        adjust_learning_rate(optimizer, epoch, init_lr, decay_epochs)\n",
    "\n",
    "        \n",
    "        for i, (imgs, imgs_rotated, rotation_label, cls_label) in enumerate(trainloader, 0):\n",
    "            \n",
    "\n",
    "            # TODO: Set the data to the correct device; Different task will use different inputs and labels\n",
    "            #\n",
    "\n",
    "            # TODO: Zero the parameter gradients\n",
    "            #\n",
    "\n",
    "            # TODO: forward + backward + optimize\n",
    "            #\n",
    "            #\n",
    "            #\n",
    "            #\n",
    "            #\n",
    "            # Set the data to the correct device; Different task will use different inputs and labels\n",
    "            if task == 'rotation':\n",
    "              images, labels = imgs_rotated.to(device), rotation_label.to(device)\n",
    "            elif task == 'classification':\n",
    "              images, labels = imgs.to(device), cls_label.to(device)\n",
    "\n",
    "            # Zero the parameter gradients\n",
    "            optimizer.zero_grad()\n",
    "\n",
    "            # forward + backward + optimize\n",
    "            outputs = net(images)\n",
    "            loss = criterion(outputs, labels)\n",
    "            loss.backward()\n",
    "            optimizer.step()\n",
    "            # TODO: Get predicted results\n",
    "\n",
    "            predicted = torch.argmax(outputs, 1)\n",
    "\n",
    "            # print statistics\n",
    "            print_freq = 100\n",
    "            running_loss += loss.item()\n",
    "\n",
    "            # calc acc\n",
    "            running_total += labels.size(0)\n",
    "            running_correct += (predicted == labels).sum().item()\n",
    "\n",
    "            if i % print_freq == (print_freq - 1):    # print every 2000 mini-batches\n",
    "                print(f'[{epoch + 1}, {i + 1:5d}] loss: {running_loss / print_freq:.3f} acc: {100*running_correct / running_total:.2f} time: {time.time() - start_time:.2f}')\n",
    "                running_loss, running_correct, running_total = 0.0, 0.0, 0.0\n",
    "                start_time = time.time()\n",
    "\n",
    "        # TODO: Run the run_test() function after each epoch; Set the model to the evaluation mode.\n",
    "        #\n",
    "        #\n",
    "        net.eval()\n",
    "        run_test(net, testloader, criterion, task)\n",
    "\n",
    "    print('Finished Training')"
   ]
  },
  {
   "cell_type": "code",
   "execution_count": null,
   "metadata": {
    "colab": {
     "base_uri": "https://localhost:8080/"
    },
    "id": "2u4AsfAKtaQS",
    "outputId": "a6e982fd-5361-425d-f325-a2099d3a4560",
    "scrolled": false
   },
   "outputs": [
    {
     "name": "stdout",
     "output_type": "stream",
     "text": [
      "[1,   100] loss: 0.630 acc: 71.41 time: 7.69\n",
      "[1,   200] loss: 0.627 acc: 72.17 time: 5.96\n",
      "[1,   300] loss: 0.619 acc: 72.41 time: 7.33\n",
      "TESTING:\n",
      "Accuracy of the network on the 10000 test images: 64.59 %\n",
      "Average loss on the 10000 test images: 0.937\n",
      "[2,   100] loss: 0.602 acc: 73.03 time: 7.58\n",
      "[2,   200] loss: 0.611 acc: 72.48 time: 5.75\n",
      "[2,   300] loss: 0.608 acc: 72.95 time: 7.37\n",
      "TESTING:\n",
      "Accuracy of the network on the 10000 test images: 63.24 %\n",
      "Average loss on the 10000 test images: 0.902\n",
      "[3,   100] loss: 0.587 acc: 74.07 time: 7.20\n",
      "[3,   200] loss: 0.586 acc: 74.17 time: 5.70\n",
      "[3,   300] loss: 0.588 acc: 73.80 time: 7.36\n",
      "TESTING:\n",
      "Accuracy of the network on the 10000 test images: 67.88 %\n",
      "Average loss on the 10000 test images: 0.808\n",
      "[4,   100] loss: 0.587 acc: 74.11 time: 6.75\n",
      "[4,   200] loss: 0.591 acc: 73.95 time: 6.10\n",
      "[4,   300] loss: 0.584 acc: 74.16 time: 7.07\n",
      "TESTING:\n",
      "Accuracy of the network on the 10000 test images: 62.32 %\n",
      "Average loss on the 10000 test images: 0.953\n",
      "[5,   100] loss: 0.572 acc: 74.82 time: 6.06\n",
      "[5,   200] loss: 0.575 acc: 74.60 time: 6.96\n",
      "[5,   300] loss: 0.565 acc: 75.31 time: 6.26\n",
      "TESTING:\n",
      "Accuracy of the network on the 10000 test images: 65.57 %\n",
      "Average loss on the 10000 test images: 0.835\n",
      "[6,   100] loss: 0.570 acc: 75.00 time: 8.03\n",
      "[6,   200] loss: 0.568 acc: 74.92 time: 7.57\n",
      "[6,   300] loss: 0.561 acc: 74.83 time: 5.67\n",
      "TESTING:\n",
      "Accuracy of the network on the 10000 test images: 64.82 %\n",
      "Average loss on the 10000 test images: 0.883\n",
      "[7,   100] loss: 0.553 acc: 75.59 time: 6.02\n",
      "[7,   200] loss: 0.564 acc: 75.16 time: 7.50\n",
      "[7,   300] loss: 0.555 acc: 75.56 time: 5.72\n",
      "TESTING:\n",
      "Accuracy of the network on the 10000 test images: 67.59 %\n",
      "Average loss on the 10000 test images: 0.797\n",
      "[8,   100] loss: 0.557 acc: 75.73 time: 7.01\n",
      "[8,   200] loss: 0.544 acc: 76.05 time: 6.34\n",
      "[8,   300] loss: 0.547 acc: 76.25 time: 6.05\n",
      "TESTING:\n",
      "Accuracy of the network on the 10000 test images: 65.89 %\n",
      "Average loss on the 10000 test images: 0.837\n",
      "[9,   100] loss: 0.536 acc: 76.88 time: 7.55\n",
      "[9,   200] loss: 0.565 acc: 75.25 time: 5.82\n",
      "[9,   300] loss: 0.544 acc: 76.52 time: 6.85\n",
      "TESTING:\n",
      "Accuracy of the network on the 10000 test images: 66.15 %\n",
      "Average loss on the 10000 test images: 0.833\n",
      "[10,   100] loss: 0.537 acc: 76.48 time: 7.61\n",
      "[10,   200] loss: 0.557 acc: 75.48 time: 5.88\n",
      "[10,   300] loss: 0.553 acc: 76.03 time: 7.29\n",
      "TESTING:\n",
      "Accuracy of the network on the 10000 test images: 67.56 %\n",
      "Average loss on the 10000 test images: 0.817\n",
      "[11,   100] loss: 0.534 acc: 76.70 time: 7.65\n",
      "[11,   200] loss: 0.555 acc: 75.98 time: 5.92\n",
      "[11,   300] loss: 0.547 acc: 76.11 time: 7.61\n",
      "TESTING:\n",
      "Accuracy of the network on the 10000 test images: 66.04 %\n",
      "Average loss on the 10000 test images: 0.846\n",
      "[12,   100] loss: 0.543 acc: 76.47 time: 7.26\n",
      "[12,   200] loss: 0.539 acc: 77.02 time: 5.84\n",
      "[12,   300] loss: 0.538 acc: 77.01 time: 7.29\n",
      "TESTING:\n",
      "Accuracy of the network on the 10000 test images: 66.18 %\n",
      "Average loss on the 10000 test images: 0.860\n",
      "[13,   100] loss: 0.535 acc: 76.68 time: 6.22\n",
      "[13,   200] loss: 0.537 acc: 76.37 time: 6.54\n",
      "[13,   300] loss: 0.537 acc: 76.73 time: 6.71\n",
      "TESTING:\n",
      "Accuracy of the network on the 10000 test images: 65.51 %\n",
      "Average loss on the 10000 test images: 0.921\n",
      "[14,   100] loss: 0.527 acc: 76.86 time: 6.18\n",
      "[14,   200] loss: 0.543 acc: 76.90 time: 7.51\n",
      "[14,   300] loss: 0.529 acc: 76.96 time: 5.82\n",
      "TESTING:\n",
      "Accuracy of the network on the 10000 test images: 68.38 %\n",
      "Average loss on the 10000 test images: 0.812\n",
      "[15,   100] loss: 0.535 acc: 77.02 time: 5.93\n",
      "[15,   200] loss: 0.527 acc: 77.46 time: 7.44\n",
      "[15,   300] loss: 0.520 acc: 77.62 time: 5.91\n",
      "TESTING:\n",
      "Accuracy of the network on the 10000 test images: 66.16 %\n",
      "Average loss on the 10000 test images: 0.836\n",
      "[16,   100] loss: 0.479 acc: 79.52 time: 6.12\n",
      "[16,   200] loss: 0.448 acc: 80.77 time: 7.40\n",
      "[16,   300] loss: 0.430 acc: 81.89 time: 5.73\n",
      "TESTING:\n",
      "Accuracy of the network on the 10000 test images: 73.64 %\n",
      "Average loss on the 10000 test images: 0.646\n",
      "[17,   100] loss: 0.425 acc: 81.94 time: 6.74\n",
      "[17,   200] loss: 0.424 acc: 82.05 time: 6.77\n",
      "[17,   300] loss: 0.420 acc: 82.10 time: 6.12\n",
      "TESTING:\n",
      "Accuracy of the network on the 10000 test images: 74.57 %\n",
      "Average loss on the 10000 test images: 0.640\n",
      "[18,   100] loss: 0.418 acc: 82.05 time: 7.68\n",
      "[18,   200] loss: 0.410 acc: 83.15 time: 5.87\n",
      "[18,   300] loss: 0.405 acc: 83.08 time: 6.68\n",
      "TESTING:\n",
      "Accuracy of the network on the 10000 test images: 76.77 %\n",
      "Average loss on the 10000 test images: 0.587\n",
      "[19,   100] loss: 0.410 acc: 82.80 time: 7.71\n",
      "[19,   200] loss: 0.405 acc: 82.77 time: 5.84\n",
      "[19,   300] loss: 0.399 acc: 83.27 time: 7.44\n",
      "TESTING:\n",
      "Accuracy of the network on the 10000 test images: 76.03 %\n",
      "Average loss on the 10000 test images: 0.602\n",
      "[20,   100] loss: 0.401 acc: 83.30 time: 7.69\n",
      "[20,   200] loss: 0.407 acc: 82.91 time: 5.69\n",
      "[20,   300] loss: 0.386 acc: 84.20 time: 7.42\n",
      "TESTING:\n",
      "Accuracy of the network on the 10000 test images: 76.79 %\n",
      "Average loss on the 10000 test images: 0.582\n",
      "[21,   100] loss: 0.399 acc: 83.24 time: 7.59\n",
      "[21,   200] loss: 0.394 acc: 83.49 time: 5.83\n",
      "[21,   300] loss: 0.384 acc: 84.17 time: 7.50\n",
      "TESTING:\n",
      "Accuracy of the network on the 10000 test images: 76.30 %\n",
      "Average loss on the 10000 test images: 0.598\n",
      "[22,   100] loss: 0.380 acc: 84.08 time: 6.92\n",
      "[22,   200] loss: 0.386 acc: 83.87 time: 5.96\n",
      "[22,   300] loss: 0.393 acc: 83.57 time: 7.37\n",
      "TESTING:\n",
      "Accuracy of the network on the 10000 test images: 77.03 %\n",
      "Average loss on the 10000 test images: 0.577\n",
      "[23,   100] loss: 0.375 acc: 84.53 time: 6.18\n",
      "[23,   200] loss: 0.383 acc: 83.84 time: 6.65\n",
      "[23,   300] loss: 0.372 acc: 84.60 time: 6.69\n",
      "TESTING:\n",
      "Accuracy of the network on the 10000 test images: 77.62 %\n",
      "Average loss on the 10000 test images: 0.570\n",
      "[24,   100] loss: 0.374 acc: 84.66 time: 5.99\n",
      "[24,   200] loss: 0.379 acc: 84.38 time: 7.38\n",
      "[24,   300] loss: 0.373 acc: 84.62 time: 5.90\n",
      "TESTING:\n",
      "Accuracy of the network on the 10000 test images: 77.93 %\n",
      "Average loss on the 10000 test images: 0.557\n",
      "[25,   100] loss: 0.374 acc: 84.50 time: 5.82\n",
      "[25,   200] loss: 0.368 acc: 84.77 time: 7.37\n",
      "[25,   300] loss: 0.377 acc: 84.02 time: 5.75\n",
      "TESTING:\n",
      "Accuracy of the network on the 10000 test images: 77.67 %\n",
      "Average loss on the 10000 test images: 0.566\n",
      "[26,   100] loss: 0.376 acc: 84.23 time: 5.84\n",
      "[26,   200] loss: 0.365 acc: 84.85 time: 7.27\n",
      "[26,   300] loss: 0.371 acc: 84.90 time: 5.98\n",
      "TESTING:\n",
      "Accuracy of the network on the 10000 test images: 77.73 %\n",
      "Average loss on the 10000 test images: 0.562\n",
      "[27,   100] loss: 0.368 acc: 84.98 time: 5.87\n",
      "[27,   200] loss: 0.356 acc: 85.25 time: 7.27\n",
      "[27,   300] loss: 0.366 acc: 85.01 time: 5.89\n",
      "TESTING:\n",
      "Accuracy of the network on the 10000 test images: 76.45 %\n",
      "Average loss on the 10000 test images: 0.598\n",
      "[28,   100] loss: 0.355 acc: 85.33 time: 6.18\n",
      "[28,   200] loss: 0.357 acc: 85.21 time: 7.16\n",
      "[28,   300] loss: 0.361 acc: 85.30 time: 5.81\n",
      "TESTING:\n",
      "Accuracy of the network on the 10000 test images: 78.63 %\n",
      "Average loss on the 10000 test images: 0.558\n",
      "[29,   100] loss: 0.360 acc: 85.42 time: 6.80\n",
      "[29,   200] loss: 0.351 acc: 85.50 time: 6.53\n",
      "[29,   300] loss: 0.362 acc: 84.83 time: 5.95\n",
      "TESTING:\n",
      "Accuracy of the network on the 10000 test images: 78.40 %\n",
      "Average loss on the 10000 test images: 0.558\n",
      "[30,   100] loss: 0.353 acc: 85.36 time: 7.49\n",
      "[30,   200] loss: 0.358 acc: 85.46 time: 5.88\n",
      "[30,   300] loss: 0.366 acc: 84.78 time: 7.03\n",
      "TESTING:\n",
      "Accuracy of the network on the 10000 test images: 77.04 %\n",
      "Average loss on the 10000 test images: 0.594\n",
      "[31,   100] loss: 0.349 acc: 85.58 time: 7.64\n",
      "[31,   200] loss: 0.345 acc: 85.62 time: 5.67\n",
      "[31,   300] loss: 0.332 acc: 86.60 time: 7.52\n",
      "TESTING:\n",
      "Accuracy of the network on the 10000 test images: 79.48 %\n",
      "Average loss on the 10000 test images: 0.526\n",
      "[32,   100] loss: 0.326 acc: 86.55 time: 7.57\n",
      "[32,   200] loss: 0.314 acc: 87.27 time: 5.68\n",
      "[32,   300] loss: 0.323 acc: 87.00 time: 7.40\n",
      "TESTING:\n",
      "Accuracy of the network on the 10000 test images: 79.95 %\n",
      "Average loss on the 10000 test images: 0.514\n",
      "[33,   100] loss: 0.318 acc: 86.90 time: 7.40\n",
      "[33,   200] loss: 0.322 acc: 86.68 time: 5.77\n",
      "[33,   300] loss: 0.320 acc: 86.84 time: 7.38\n",
      "TESTING:\n",
      "Accuracy of the network on the 10000 test images: 79.86 %\n",
      "Average loss on the 10000 test images: 0.518\n",
      "[34,   100] loss: 0.324 acc: 86.83 time: 6.50\n",
      "[34,   200] loss: 0.323 acc: 86.98 time: 6.45\n",
      "[34,   300] loss: 0.321 acc: 86.75 time: 6.89\n",
      "TESTING:\n",
      "Accuracy of the network on the 10000 test images: 80.95 %\n",
      "Average loss on the 10000 test images: 0.497\n",
      "[35,   100] loss: 0.314 acc: 87.20 time: 5.90\n",
      "[35,   200] loss: 0.322 acc: 86.79 time: 7.19\n",
      "[35,   300] loss: 0.312 acc: 87.29 time: 5.95\n",
      "TESTING:\n",
      "Accuracy of the network on the 10000 test images: 80.80 %\n",
      "Average loss on the 10000 test images: 0.495\n",
      "[36,   100] loss: 0.303 acc: 87.92 time: 5.97\n",
      "[36,   200] loss: 0.305 acc: 87.50 time: 7.31\n",
      "[36,   300] loss: 0.319 acc: 87.16 time: 5.82\n",
      "TESTING:\n",
      "Accuracy of the network on the 10000 test images: 80.61 %\n",
      "Average loss on the 10000 test images: 0.498\n",
      "[37,   100] loss: 0.312 acc: 87.52 time: 6.19\n",
      "[37,   200] loss: 0.308 acc: 87.46 time: 7.34\n",
      "[37,   300] loss: 0.308 acc: 87.65 time: 5.91\n",
      "[38,   100] loss: 0.311 acc: 87.54 time: 6.70\n",
      "[38,   200] loss: 0.313 acc: 87.20 time: 6.79\n",
      "[38,   300] loss: 0.308 acc: 87.55 time: 5.74\n",
      "TESTING:\n",
      "Accuracy of the network on the 10000 test images: 81.26 %\n",
      "Average loss on the 10000 test images: 0.486\n",
      "[39,   100] loss: 0.311 acc: 87.64 time: 7.65\n",
      "[39,   200] loss: 0.303 acc: 87.62 time: 5.85\n",
      "[39,   300] loss: 0.316 acc: 87.23 time: 7.01\n",
      "TESTING:\n",
      "Accuracy of the network on the 10000 test images: 81.45 %\n",
      "Average loss on the 10000 test images: 0.489\n",
      "[40,   100] loss: 0.307 acc: 87.54 time: 7.72\n",
      "[40,   200] loss: 0.313 acc: 87.20 time: 5.80\n",
      "[40,   300] loss: 0.308 acc: 87.73 time: 7.40\n",
      "TESTING:\n",
      "Accuracy of the network on the 10000 test images: 81.10 %\n",
      "Average loss on the 10000 test images: 0.485\n",
      "[41,   100] loss: 0.308 acc: 87.46 time: 7.73\n",
      "[41,   200] loss: 0.298 acc: 87.79 time: 5.74\n",
      "[41,   300] loss: 0.302 acc: 87.77 time: 7.44\n",
      "TESTING:\n",
      "Accuracy of the network on the 10000 test images: 81.39 %\n",
      "Average loss on the 10000 test images: 0.475\n",
      "[42,   100] loss: 0.303 acc: 87.72 time: 7.68\n",
      "[42,   200] loss: 0.310 acc: 87.38 time: 5.84\n",
      "[42,   300] loss: 0.309 acc: 87.52 time: 7.38\n",
      "TESTING:\n",
      "Accuracy of the network on the 10000 test images: 81.81 %\n",
      "Average loss on the 10000 test images: 0.478\n",
      "[43,   100] loss: 0.307 acc: 87.60 time: 6.63\n",
      "[43,   200] loss: 0.305 acc: 87.60 time: 6.38\n",
      "[43,   300] loss: 0.312 acc: 87.35 time: 6.69\n",
      "TESTING:\n",
      "Accuracy of the network on the 10000 test images: 81.84 %\n",
      "Average loss on the 10000 test images: 0.469\n",
      "[44,   100] loss: 0.298 acc: 87.89 time: 5.76\n",
      "[44,   200] loss: 0.297 acc: 88.00 time: 6.86\n",
      "[44,   300] loss: 0.302 acc: 87.76 time: 6.20\n",
      "TESTING:\n",
      "Accuracy of the network on the 10000 test images: 80.52 %\n",
      "Average loss on the 10000 test images: 0.503\n",
      "[45,   100] loss: 0.300 acc: 87.72 time: 5.98\n",
      "[45,   200] loss: 0.297 acc: 87.78 time: 7.20\n",
      "[45,   300] loss: 0.306 acc: 87.72 time: 5.82\n",
      "TESTING:\n",
      "Accuracy of the network on the 10000 test images: 81.51 %\n",
      "Average loss on the 10000 test images: 0.473\n",
      "Finished Training\n"
     ]
    }
   ],
   "source": [
    "train(net, criterion, optimizer, num_epochs=45, decay_epochs=15, init_lr=0.1, task='rotation')\n",
    "\n",
    "# TODO: Save the model\n",
    "#\n",
    "torch.save(net.state_dict(), 'rotation_model.pth')"
   ]
  },
  {
   "cell_type": "markdown",
   "metadata": {
    "id": "PLLMRTS9rTnk"
   },
   "source": [
    "##Fine-tuning on the pre-trained model\n",
    "\n",
    "In this section, we will load the pre-trained ResNet18 model and fine-tune on the classification task. We will freeze all previous layers except for the 'layer4' block and 'fc' layer."
   ]
  },
  {
   "cell_type": "code",
   "execution_count": null,
   "metadata": {
    "id": "S4nX4ExlrymI"
   },
   "outputs": [],
   "source": [
    "\n",
    "import torch\n",
    "import torch.nn as nn\n",
    "import torch.nn.functional as F\n",
    "\n",
    "from torchvision import models\n",
    "\n",
    "# Load the previously trained ResNet18 model\n",
    "net = models.resnet18(num_classes=4)\n",
    "\n",
    "saved_path = 'rotation_model.pth'\n",
    "net.load_state_dict(torch.load(saved_path))\n",
    "\n",
    "# Move the model to the device (GPU or CPU)\n",
    "device = torch.device('cuda' if torch.cuda.is_available() else 'cpu')\n",
    "#net.to(device)\n",
    "\n",
    "\n",
    "num_classes = 10  \n",
    "net.fc = nn.Linear(net.fc.in_features, num_classes).to(device)\n"
   ]
  },
  {
   "cell_type": "code",
   "execution_count": null,
   "metadata": {
    "id": "xUtI-W2nHekb"
   },
   "outputs": [],
   "source": [
    "# num_classes = 10\n",
    "# net.fc = nn.Linear(net.fc.in_features, num_classes)\n"
   ]
  },
  {
   "cell_type": "code",
   "execution_count": null,
   "metadata": {
    "id": "kD44g-TxwYdU"
   },
   "outputs": [],
   "source": [
    "\n",
    "\n",
    "for param in net.parameters():\n",
    "    param.requires_grad = False\n",
    "\n",
    "\n",
    "# Unfreeze the 'layer4' block and 'fc' layer\n",
    "for param in net.layer4.parameters():\n",
    "    param.requires_grad = True\n",
    "\n",
    "for param in net.fc.parameters():\n",
    "    param.requires_grad = True"
   ]
  },
  {
   "cell_type": "code",
   "execution_count": null,
   "metadata": {
    "colab": {
     "base_uri": "https://localhost:8080/"
    },
    "id": "9T5DX0efr4fh",
    "outputId": "ae3c6391-8b04-4521-bc06-a8b9b4219ac9"
   },
   "outputs": [
    {
     "name": "stdout",
     "output_type": "stream",
     "text": [
      "Params to learn:\n",
      "\t layer4.0.conv1.weight\n",
      "\t layer4.0.bn1.weight\n",
      "\t layer4.0.bn1.bias\n",
      "\t layer4.0.conv2.weight\n",
      "\t layer4.0.bn2.weight\n",
      "\t layer4.0.bn2.bias\n",
      "\t layer4.0.downsample.0.weight\n",
      "\t layer4.0.downsample.1.weight\n",
      "\t layer4.0.downsample.1.bias\n",
      "\t layer4.1.conv1.weight\n",
      "\t layer4.1.bn1.weight\n",
      "\t layer4.1.bn1.bias\n",
      "\t layer4.1.conv2.weight\n",
      "\t layer4.1.bn2.weight\n",
      "\t layer4.1.bn2.bias\n",
      "\t fc.weight\n",
      "\t fc.bias\n"
     ]
    }
   ],
   "source": [
    "# Print all the trainable parameters\n",
    "params_to_update = net.parameters()\n",
    "print(\"Params to learn:\")\n",
    "params_to_update = []\n",
    "for name,param in net.named_parameters():\n",
    "    if param.requires_grad == True:\n",
    "        params_to_update.append(param)\n",
    "        print(\"\\t\",name)"
   ]
  },
  {
   "cell_type": "code",
   "execution_count": null,
   "metadata": {
    "id": "xb032dG700ph"
   },
   "outputs": [],
   "source": [
    "criterion = nn.CrossEntropyLoss()\n",
    "optimizer = optim.Adam(params_to_update, lr=0.01)\n",
    "#num_epochs = 10\n",
    "#device = torch.device(\"cuda\" if torch.cuda.is_available() else \"cpu\")\n",
    "net = net.to(device)\n"
   ]
  },
  {
   "cell_type": "code",
   "execution_count": null,
   "metadata": {
    "colab": {
     "base_uri": "https://localhost:8080/"
    },
    "id": "3vLSwOo6sBjl",
    "outputId": "e899962f-9876-4727-eabf-2479954c4077",
    "scrolled": false
   },
   "outputs": [
    {
     "name": "stdout",
     "output_type": "stream",
     "text": [
      "[1,   100] loss: 1.948 acc: 30.16 time: 12.81\n",
      "[1,   200] loss: 1.644 acc: 39.15 time: 7.16\n",
      "[1,   300] loss: 1.597 acc: 41.70 time: 5.55\n",
      "TESTING:\n",
      "Accuracy of the network on the 10000 test images: 43.95 %\n",
      "Average loss on the 10000 test images: 1.541\n",
      "[2,   100] loss: 1.517 acc: 44.62 time: 5.62\n",
      "[2,   200] loss: 1.510 acc: 44.86 time: 7.31\n",
      "[2,   300] loss: 1.527 acc: 44.70 time: 5.43\n",
      "TESTING:\n",
      "Accuracy of the network on the 10000 test images: 47.27 %\n",
      "Average loss on the 10000 test images: 1.478\n",
      "[3,   100] loss: 1.474 acc: 46.41 time: 5.64\n",
      "[3,   200] loss: 1.482 acc: 46.03 time: 7.02\n",
      "[3,   300] loss: 1.454 acc: 47.38 time: 5.76\n",
      "TESTING:\n",
      "Accuracy of the network on the 10000 test images: 48.26 %\n",
      "Average loss on the 10000 test images: 1.435\n",
      "[4,   100] loss: 1.458 acc: 48.16 time: 5.72\n",
      "[4,   200] loss: 1.447 acc: 47.85 time: 7.14\n",
      "[4,   300] loss: 1.454 acc: 47.47 time: 5.57\n",
      "TESTING:\n",
      "Accuracy of the network on the 10000 test images: 48.56 %\n",
      "Average loss on the 10000 test images: 1.436\n",
      "[5,   100] loss: 1.413 acc: 48.76 time: 5.71\n",
      "[5,   200] loss: 1.426 acc: 48.64 time: 7.31\n",
      "[5,   300] loss: 1.431 acc: 48.14 time: 5.59\n",
      "TESTING:\n",
      "Accuracy of the network on the 10000 test images: 47.90 %\n",
      "Average loss on the 10000 test images: 1.454\n",
      "[6,   100] loss: 1.415 acc: 49.30 time: 5.75\n",
      "[6,   200] loss: 1.416 acc: 49.84 time: 7.30\n",
      "[6,   300] loss: 1.394 acc: 50.17 time: 5.66\n",
      "TESTING:\n",
      "Accuracy of the network on the 10000 test images: 52.09 %\n",
      "Average loss on the 10000 test images: 1.342\n",
      "[7,   100] loss: 1.426 acc: 49.08 time: 5.87\n",
      "[7,   200] loss: 1.398 acc: 49.56 time: 7.38\n",
      "[7,   300] loss: 1.404 acc: 49.54 time: 5.64\n",
      "TESTING:\n",
      "Accuracy of the network on the 10000 test images: 52.12 %\n",
      "Average loss on the 10000 test images: 1.341\n",
      "[8,   100] loss: 1.387 acc: 50.69 time: 5.79\n",
      "[8,   200] loss: 1.403 acc: 49.49 time: 7.47\n",
      "[8,   300] loss: 1.400 acc: 50.16 time: 5.57\n",
      "TESTING:\n",
      "Accuracy of the network on the 10000 test images: 53.26 %\n",
      "Average loss on the 10000 test images: 1.305\n",
      "[9,   100] loss: 1.391 acc: 50.50 time: 5.73\n",
      "[9,   200] loss: 1.394 acc: 50.27 time: 7.30\n",
      "[9,   300] loss: 1.392 acc: 50.83 time: 5.66\n",
      "TESTING:\n",
      "Accuracy of the network on the 10000 test images: 51.69 %\n",
      "Average loss on the 10000 test images: 1.352\n",
      "[10,   100] loss: 1.371 acc: 50.27 time: 5.91\n",
      "[10,   200] loss: 1.359 acc: 51.35 time: 7.36\n",
      "[10,   300] loss: 1.369 acc: 51.49 time: 5.54\n",
      "TESTING:\n",
      "Accuracy of the network on the 10000 test images: 52.97 %\n",
      "Average loss on the 10000 test images: 1.311\n",
      "[11,   100] loss: 1.297 acc: 54.16 time: 5.73\n",
      "[11,   200] loss: 1.272 acc: 54.60 time: 7.30\n",
      "[11,   300] loss: 1.262 acc: 54.52 time: 5.54\n",
      "TESTING:\n",
      "Accuracy of the network on the 10000 test images: 56.05 %\n",
      "Average loss on the 10000 test images: 1.226\n",
      "[12,   100] loss: 1.251 acc: 55.45 time: 5.83\n",
      "[12,   200] loss: 1.271 acc: 54.39 time: 7.12\n",
      "[12,   300] loss: 1.250 acc: 55.32 time: 5.64\n",
      "TESTING:\n",
      "Accuracy of the network on the 10000 test images: 56.31 %\n",
      "Average loss on the 10000 test images: 1.217\n",
      "[13,   100] loss: 1.257 acc: 54.70 time: 5.90\n",
      "[13,   200] loss: 1.248 acc: 55.02 time: 7.34\n",
      "[13,   300] loss: 1.249 acc: 55.13 time: 5.56\n",
      "TESTING:\n",
      "Accuracy of the network on the 10000 test images: 56.72 %\n",
      "Average loss on the 10000 test images: 1.208\n",
      "[14,   100] loss: 1.245 acc: 54.97 time: 5.84\n",
      "[14,   200] loss: 1.248 acc: 55.63 time: 7.39\n",
      "[14,   300] loss: 1.246 acc: 55.11 time: 5.49\n",
      "TESTING:\n",
      "Accuracy of the network on the 10000 test images: 56.53 %\n",
      "Average loss on the 10000 test images: 1.210\n",
      "[15,   100] loss: 1.231 acc: 55.73 time: 5.70\n",
      "[15,   200] loss: 1.251 acc: 54.80 time: 7.38\n",
      "[15,   300] loss: 1.235 acc: 55.70 time: 5.58\n",
      "TESTING:\n",
      "Accuracy of the network on the 10000 test images: 56.11 %\n",
      "Average loss on the 10000 test images: 1.209\n",
      "[16,   100] loss: 1.252 acc: 55.11 time: 5.76\n",
      "[16,   200] loss: 1.255 acc: 54.66 time: 7.38\n",
      "[16,   300] loss: 1.225 acc: 55.93 time: 5.59\n",
      "TESTING:\n",
      "Accuracy of the network on the 10000 test images: 56.91 %\n",
      "Average loss on the 10000 test images: 1.198\n",
      "[17,   100] loss: 1.239 acc: 55.78 time: 5.72\n",
      "[17,   200] loss: 1.221 acc: 56.00 time: 7.50\n",
      "[17,   300] loss: 1.247 acc: 54.94 time: 5.53\n",
      "TESTING:\n",
      "Accuracy of the network on the 10000 test images: 56.89 %\n",
      "Average loss on the 10000 test images: 1.202\n",
      "[18,   100] loss: 1.232 acc: 55.38 time: 5.60\n",
      "[18,   200] loss: 1.227 acc: 55.91 time: 7.52\n",
      "[18,   300] loss: 1.231 acc: 55.51 time: 5.67\n",
      "TESTING:\n",
      "Accuracy of the network on the 10000 test images: 56.84 %\n",
      "Average loss on the 10000 test images: 1.192\n",
      "[19,   100] loss: 1.226 acc: 56.26 time: 5.77\n",
      "[19,   200] loss: 1.235 acc: 55.52 time: 7.17\n",
      "[19,   300] loss: 1.226 acc: 55.84 time: 5.57\n",
      "TESTING:\n",
      "Accuracy of the network on the 10000 test images: 56.65 %\n",
      "Average loss on the 10000 test images: 1.198\n",
      "[20,   100] loss: 1.224 acc: 56.34 time: 5.79\n",
      "[20,   200] loss: 1.222 acc: 56.09 time: 7.17\n",
      "[20,   300] loss: 1.226 acc: 55.86 time: 5.77\n",
      "TESTING:\n",
      "Accuracy of the network on the 10000 test images: 56.82 %\n",
      "Average loss on the 10000 test images: 1.188\n",
      "[21,   100] loss: 1.239 acc: 56.26 time: 5.83\n",
      "[21,   200] loss: 1.210 acc: 56.09 time: 7.38\n",
      "[21,   300] loss: 1.218 acc: 56.16 time: 5.59\n",
      "TESTING:\n",
      "Accuracy of the network on the 10000 test images: 57.04 %\n",
      "Average loss on the 10000 test images: 1.182\n",
      "[22,   100] loss: 1.221 acc: 56.25 time: 5.70\n",
      "[22,   200] loss: 1.211 acc: 56.27 time: 7.26\n",
      "[22,   300] loss: 1.219 acc: 56.41 time: 5.56\n",
      "TESTING:\n",
      "Accuracy of the network on the 10000 test images: 57.42 %\n",
      "Average loss on the 10000 test images: 1.180\n",
      "[23,   100] loss: 1.206 acc: 57.04 time: 5.66\n",
      "[23,   200] loss: 1.207 acc: 56.38 time: 7.24\n",
      "[23,   300] loss: 1.212 acc: 56.41 time: 5.52\n",
      "TESTING:\n",
      "Accuracy of the network on the 10000 test images: 57.47 %\n",
      "Average loss on the 10000 test images: 1.181\n",
      "[24,   100] loss: 1.204 acc: 55.89 time: 5.75\n",
      "[24,   200] loss: 1.213 acc: 56.26 time: 7.30\n",
      "[24,   300] loss: 1.202 acc: 56.57 time: 5.60\n",
      "TESTING:\n",
      "Accuracy of the network on the 10000 test images: 57.39 %\n",
      "Average loss on the 10000 test images: 1.178\n",
      "[25,   100] loss: 1.212 acc: 56.20 time: 5.70\n",
      "[25,   200] loss: 1.224 acc: 55.50 time: 7.31\n",
      "[25,   300] loss: 1.208 acc: 56.18 time: 5.50\n",
      "TESTING:\n",
      "Accuracy of the network on the 10000 test images: 57.21 %\n",
      "Average loss on the 10000 test images: 1.182\n",
      "[26,   100] loss: 1.211 acc: 56.42 time: 5.75\n",
      "[26,   200] loss: 1.206 acc: 56.30 time: 7.42\n",
      "[26,   300] loss: 1.216 acc: 56.52 time: 5.45\n",
      "TESTING:\n",
      "Accuracy of the network on the 10000 test images: 57.29 %\n",
      "Average loss on the 10000 test images: 1.185\n",
      "[27,   100] loss: 1.200 acc: 56.34 time: 5.92\n",
      "[27,   200] loss: 1.195 acc: 57.05 time: 7.13\n",
      "[27,   300] loss: 1.228 acc: 56.31 time: 5.66\n",
      "TESTING:\n",
      "Accuracy of the network on the 10000 test images: 57.56 %\n",
      "Average loss on the 10000 test images: 1.178\n",
      "[28,   100] loss: 1.219 acc: 55.80 time: 6.28\n",
      "[28,   200] loss: 1.210 acc: 56.52 time: 6.98\n",
      "[28,   300] loss: 1.216 acc: 55.98 time: 5.57\n",
      "TESTING:\n",
      "Accuracy of the network on the 10000 test images: 57.30 %\n",
      "Average loss on the 10000 test images: 1.179\n",
      "[29,   100] loss: 1.218 acc: 55.80 time: 6.18\n",
      "[29,   200] loss: 1.217 acc: 56.33 time: 6.90\n",
      "[29,   300] loss: 1.206 acc: 56.64 time: 5.63\n",
      "TESTING:\n",
      "Accuracy of the network on the 10000 test images: 57.38 %\n",
      "Average loss on the 10000 test images: 1.182\n",
      "[30,   100] loss: 1.224 acc: 56.13 time: 6.08\n",
      "[30,   200] loss: 1.209 acc: 55.90 time: 7.06\n",
      "[30,   300] loss: 1.213 acc: 56.25 time: 5.52\n",
      "TESTING:\n",
      "Accuracy of the network on the 10000 test images: 57.34 %\n",
      "Average loss on the 10000 test images: 1.181\n",
      "Finished Training\n"
     ]
    }
   ],
   "source": [
    "train(net, criterion, optimizer, num_epochs=30, decay_epochs=10, init_lr=0.1, task='classification')\n"
   ]
  },
  {
   "cell_type": "markdown",
   "metadata": {
    "id": "ghPNhcJBrcNj"
   },
   "source": [
    "## Fine-tuning on the randomly initialized model\n",
    "In this section, we will randomly initialize a ResNet18 model and fine-tune on the classification task. We will freeze all previous layers except for the 'layer4' block and 'fc' layer."
   ]
  },
  {
   "cell_type": "code",
   "execution_count": null,
   "metadata": {
    "id": "2RfXAh9vxXRB"
   },
   "outputs": [],
   "source": [
    "\n",
    "import torch\n",
    "import torch.nn as nn\n",
    "import torch.nn.functional as F\n",
    "from torchvision.models import resnet18\n",
    "\n",
    "# Randomly initialize a ResNet18 model\n",
    "net = resnet18(num_classes=10)\n",
    "\n",
    "net = net.to(device)"
   ]
  },
  {
   "cell_type": "code",
   "execution_count": null,
   "metadata": {
    "id": "fpx-SYAizt4p"
   },
   "outputs": [],
   "source": [
    "for param in net.parameters():\n",
    "    param.requires_grad = False\n",
    "    \n",
    "# Unfreeze the 'layer4' block and 'fc' layer\n",
    "for param in net.layer4.parameters():\n",
    "    param.requires_grad = True\n",
    "\n",
    "for param in net.fc.parameters():\n",
    "    param.requires_grad = True"
   ]
  },
  {
   "cell_type": "code",
   "execution_count": null,
   "metadata": {
    "colab": {
     "base_uri": "https://localhost:8080/"
    },
    "id": "BUFWizbHxgm2",
    "outputId": "fe7a9688-9802-4ca1-ac68-c3f5def43af1"
   },
   "outputs": [
    {
     "name": "stdout",
     "output_type": "stream",
     "text": [
      "Params to learn:\n",
      "\t layer4.0.conv1.weight\n",
      "\t layer4.0.bn1.weight\n",
      "\t layer4.0.bn1.bias\n",
      "\t layer4.0.conv2.weight\n",
      "\t layer4.0.bn2.weight\n",
      "\t layer4.0.bn2.bias\n",
      "\t layer4.0.downsample.0.weight\n",
      "\t layer4.0.downsample.1.weight\n",
      "\t layer4.0.downsample.1.bias\n",
      "\t layer4.1.conv1.weight\n",
      "\t layer4.1.bn1.weight\n",
      "\t layer4.1.bn1.bias\n",
      "\t layer4.1.conv2.weight\n",
      "\t layer4.1.bn2.weight\n",
      "\t layer4.1.bn2.bias\n",
      "\t fc.weight\n",
      "\t fc.bias\n"
     ]
    }
   ],
   "source": [
    "# Print all the trainable parameters\n",
    "params_to_update = net.parameters()\n",
    "print(\"Params to learn:\")\n",
    "params_to_update = []\n",
    "for name,param in net.named_parameters():\n",
    "    if param.requires_grad == True:\n",
    "        params_to_update.append(param)\n",
    "        print(\"\\t\",name)"
   ]
  },
  {
   "cell_type": "code",
   "execution_count": null,
   "metadata": {
    "id": "BxFrGj091AN_"
   },
   "outputs": [],
   "source": [
    "# criterion = nn.CrossEntropyLoss()\n",
    "optimizer = optim.SGD(net.parameters(), lr=0.1, momentum=0.9, weight_decay=5e-4)\n",
    "\n",
    "criterion = nn.CrossEntropyLoss()\n",
    "#optimizer = optim.Adam(params_to_update, lr=0.001, weight_decay=1e-2)\n"
   ]
  },
  {
   "cell_type": "code",
   "execution_count": null,
   "metadata": {
    "colab": {
     "base_uri": "https://localhost:8080/"
    },
    "id": "GzRVy0MZxpoL",
    "outputId": "f4c47272-f446-43b4-b7de-8210d6e280e3",
    "scrolled": false
   },
   "outputs": [
    {
     "name": "stdout",
     "output_type": "stream",
     "text": [
      "[1,   100] loss: 3.534 acc: 21.99 time: 5.90\n",
      "[1,   200] loss: 2.007 acc: 29.26 time: 7.46\n",
      "[1,   300] loss: 1.884 acc: 31.75 time: 5.69\n",
      "TESTING:\n",
      "Accuracy of the network on the 10000 test images: 37.71 %\n",
      "Average loss on the 10000 test images: 1.738\n",
      "[2,   100] loss: 1.815 acc: 33.91 time: 5.96\n",
      "[2,   200] loss: 1.791 acc: 34.80 time: 8.65\n",
      "[2,   300] loss: 1.776 acc: 36.28 time: 5.91\n",
      "TESTING:\n",
      "Accuracy of the network on the 10000 test images: 38.72 %\n",
      "Average loss on the 10000 test images: 1.694\n",
      "[3,   100] loss: 1.748 acc: 36.70 time: 7.13\n",
      "[3,   200] loss: 1.742 acc: 36.58 time: 6.13\n",
      "[3,   300] loss: 1.740 acc: 37.04 time: 6.12\n",
      "TESTING:\n",
      "Accuracy of the network on the 10000 test images: 39.48 %\n",
      "Average loss on the 10000 test images: 1.661\n",
      "[4,   100] loss: 1.715 acc: 37.73 time: 7.58\n",
      "[4,   200] loss: 1.719 acc: 38.31 time: 5.82\n",
      "[4,   300] loss: 1.707 acc: 38.20 time: 6.90\n",
      "TESTING:\n",
      "Accuracy of the network on the 10000 test images: 39.20 %\n",
      "Average loss on the 10000 test images: 1.672\n",
      "[5,   100] loss: 1.684 acc: 38.98 time: 7.68\n",
      "[5,   200] loss: 1.644 acc: 40.26 time: 5.74\n",
      "[5,   300] loss: 1.648 acc: 40.50 time: 7.32\n",
      "TESTING:\n",
      "Accuracy of the network on the 10000 test images: 43.12 %\n",
      "Average loss on the 10000 test images: 1.577\n",
      "[6,   100] loss: 1.641 acc: 41.09 time: 7.80\n",
      "[6,   200] loss: 1.627 acc: 41.57 time: 5.74\n",
      "[6,   300] loss: 1.615 acc: 42.73 time: 7.58\n",
      "TESTING:\n",
      "Accuracy of the network on the 10000 test images: 43.42 %\n",
      "Average loss on the 10000 test images: 1.570\n",
      "[7,   100] loss: 1.610 acc: 41.93 time: 7.81\n",
      "[7,   200] loss: 1.616 acc: 41.75 time: 5.68\n",
      "[7,   300] loss: 1.624 acc: 42.16 time: 7.63\n",
      "TESTING:\n",
      "Accuracy of the network on the 10000 test images: 44.03 %\n",
      "Average loss on the 10000 test images: 1.559\n",
      "[8,   100] loss: 1.613 acc: 42.23 time: 7.29\n",
      "[8,   200] loss: 1.617 acc: 41.77 time: 5.72\n",
      "[8,   300] loss: 1.613 acc: 41.92 time: 7.40\n",
      "TESTING:\n",
      "Accuracy of the network on the 10000 test images: 44.13 %\n",
      "Average loss on the 10000 test images: 1.550\n",
      "[9,   100] loss: 1.597 acc: 42.89 time: 6.74\n",
      "[9,   200] loss: 1.604 acc: 42.06 time: 5.79\n",
      "[9,   300] loss: 1.605 acc: 42.11 time: 7.40\n",
      "TESTING:\n",
      "Accuracy of the network on the 10000 test images: 44.30 %\n",
      "Average loss on the 10000 test images: 1.542\n",
      "[10,   100] loss: 1.587 acc: 43.25 time: 6.28\n",
      "[10,   200] loss: 1.604 acc: 42.30 time: 6.50\n",
      "[10,   300] loss: 1.600 acc: 42.35 time: 6.79\n",
      "TESTING:\n",
      "Accuracy of the network on the 10000 test images: 44.51 %\n",
      "Average loss on the 10000 test images: 1.541\n",
      "[11,   100] loss: 1.595 acc: 42.76 time: 7.73\n",
      "[11,   200] loss: 1.589 acc: 42.77 time: 8.31\n",
      "[11,   300] loss: 1.587 acc: 43.59 time: 6.62\n",
      "TESTING:\n",
      "Accuracy of the network on the 10000 test images: 44.48 %\n",
      "Average loss on the 10000 test images: 1.542\n",
      "[12,   100] loss: 1.580 acc: 43.07 time: 7.60\n",
      "[12,   200] loss: 1.597 acc: 42.97 time: 5.80\n",
      "[12,   300] loss: 1.596 acc: 42.87 time: 7.35\n",
      "TESTING:\n",
      "Accuracy of the network on the 10000 test images: 44.64 %\n",
      "Average loss on the 10000 test images: 1.540\n",
      "[13,   100] loss: 1.594 acc: 42.87 time: 7.57\n",
      "[13,   200] loss: 1.582 acc: 42.91 time: 5.70\n",
      "[13,   300] loss: 1.585 acc: 43.18 time: 7.51\n",
      "TESTING:\n",
      "Accuracy of the network on the 10000 test images: 44.62 %\n",
      "Average loss on the 10000 test images: 1.539\n",
      "[14,   100] loss: 1.592 acc: 42.90 time: 7.55\n",
      "[14,   200] loss: 1.591 acc: 43.29 time: 5.73\n",
      "[14,   300] loss: 1.595 acc: 42.69 time: 7.41\n",
      "TESTING:\n",
      "Accuracy of the network on the 10000 test images: 44.53 %\n",
      "Average loss on the 10000 test images: 1.540\n",
      "[15,   100] loss: 1.602 acc: 42.25 time: 7.57\n",
      "[15,   200] loss: 1.592 acc: 42.96 time: 5.75\n",
      "[15,   300] loss: 1.594 acc: 42.89 time: 7.33\n",
      "TESTING:\n",
      "Accuracy of the network on the 10000 test images: 44.58 %\n",
      "Average loss on the 10000 test images: 1.539\n",
      "[16,   100] loss: 1.591 acc: 43.20 time: 7.42\n",
      "[16,   200] loss: 1.592 acc: 43.05 time: 5.74\n",
      "[16,   300] loss: 1.590 acc: 43.02 time: 7.49\n",
      "TESTING:\n",
      "Accuracy of the network on the 10000 test images: 44.78 %\n",
      "Average loss on the 10000 test images: 1.538\n",
      "[17,   100] loss: 1.584 acc: 42.88 time: 6.63\n",
      "[17,   200] loss: 1.590 acc: 42.67 time: 5.91\n",
      "[17,   300] loss: 1.600 acc: 43.13 time: 7.15\n",
      "TESTING:\n",
      "Accuracy of the network on the 10000 test images: 44.52 %\n",
      "Average loss on the 10000 test images: 1.540\n",
      "[18,   100] loss: 1.579 acc: 43.56 time: 6.41\n",
      "[18,   200] loss: 1.592 acc: 42.66 time: 6.33\n",
      "[18,   300] loss: 1.592 acc: 42.36 time: 6.97\n",
      "TESTING:\n",
      "Accuracy of the network on the 10000 test images: 44.72 %\n",
      "Average loss on the 10000 test images: 1.540\n",
      "[19,   100] loss: 1.588 acc: 42.83 time: 5.78\n",
      "[19,   200] loss: 1.601 acc: 42.36 time: 6.68\n",
      "[19,   300] loss: 1.588 acc: 43.06 time: 6.50\n",
      "TESTING:\n",
      "Accuracy of the network on the 10000 test images: 44.51 %\n",
      "Average loss on the 10000 test images: 1.541\n",
      "[20,   100] loss: 1.585 acc: 43.10 time: 5.82\n",
      "[20,   200] loss: 1.594 acc: 42.66 time: 7.22\n",
      "[20,   300] loss: 1.587 acc: 43.18 time: 5.97\n",
      "TESTING:\n",
      "Accuracy of the network on the 10000 test images: 44.53 %\n",
      "Average loss on the 10000 test images: 1.539\n",
      "Finished Training\n"
     ]
    }
   ],
   "source": [
    "train(net, criterion, optimizer, num_epochs=20, decay_epochs=4, init_lr=0.1, task='classification')"
   ]
  },
  {
   "cell_type": "markdown",
   "metadata": {
    "id": "WcN54tcNN15U"
   },
   "source": [
    "##Supervised training on the pre-trained model\n",
    "In this section, we will load the pre-trained ResNet18 model and re-train the whole model on the classification task."
   ]
  },
  {
   "cell_type": "code",
   "execution_count": null,
   "metadata": {
    "id": "9xR9h_S1N6Xi"
   },
   "outputs": [],
   "source": [
    "import torch.nn as nn\n",
    "import torch.nn.functional as F\n",
    "\n",
    "from torchvision.models import resnet18\n",
    "\n",
    "net = models.resnet18(num_classes=4)\n",
    "\n",
    "saved_path = 'rotation_model.pth'\n",
    "net.load_state_dict(torch.load(saved_path))\n",
    "\n",
    "# Move the model to the device (GPU or CPU)\n",
    "device = torch.device('cuda' if torch.cuda.is_available() else 'cpu')\n",
    "net.to(device)\n",
    "\n",
    "num_classes = 10  \n",
    "net.fc = nn.Linear(net.fc.in_features, num_classes).to(device)"
   ]
  },
  {
   "cell_type": "code",
   "execution_count": null,
   "metadata": {
    "id": "gGozc2cM0ADw"
   },
   "outputs": [],
   "source": [
    "optimizer = optim.SGD(net.parameters(), lr=0.01, weight_decay=1e-2)\n",
    "\n",
    "criterion = nn.CrossEntropyLoss()\n",
    "#optimizer = optim.Adam(net.parameters(), lr=0.1)"
   ]
  },
  {
   "cell_type": "code",
   "execution_count": null,
   "metadata": {
    "colab": {
     "base_uri": "https://localhost:8080/"
    },
    "id": "JGWW7gzCz_Bu",
    "outputId": "a20a23ba-65fd-4809-f0e2-4fe7db8314b6",
    "scrolled": false
   },
   "outputs": [
    {
     "name": "stdout",
     "output_type": "stream",
     "text": [
      "[1,   100] loss: 0.775 acc: 73.11 time: 6.02\n",
      "[1,   200] loss: 0.773 acc: 72.98 time: 7.19\n",
      "[1,   300] loss: 0.767 acc: 73.49 time: 5.92\n",
      "TESTING:\n",
      "Accuracy of the network on the 10000 test images: 73.87 %\n",
      "Average loss on the 10000 test images: 0.754\n",
      "[2,   100] loss: 0.777 acc: 72.91 time: 5.85\n",
      "[2,   200] loss: 0.769 acc: 73.43 time: 7.41\n",
      "[2,   300] loss: 0.764 acc: 73.38 time: 5.81\n",
      "TESTING:\n",
      "Accuracy of the network on the 10000 test images: 72.19 %\n",
      "Average loss on the 10000 test images: 0.801\n",
      "[3,   100] loss: 0.782 acc: 73.09 time: 6.03\n",
      "[3,   200] loss: 0.785 acc: 72.61 time: 7.26\n",
      "[3,   300] loss: 0.789 acc: 72.83 time: 5.77\n",
      "TESTING:\n",
      "Accuracy of the network on the 10000 test images: 71.88 %\n",
      "Average loss on the 10000 test images: 0.817\n",
      "[4,   100] loss: 0.806 acc: 72.06 time: 6.35\n",
      "[4,   200] loss: 0.806 acc: 72.11 time: 8.15\n",
      "[4,   300] loss: 0.822 acc: 71.71 time: 5.88\n",
      "TESTING:\n",
      "Accuracy of the network on the 10000 test images: 67.50 %\n",
      "Average loss on the 10000 test images: 0.920\n",
      "[5,   100] loss: 0.760 acc: 74.11 time: 6.92\n",
      "[5,   200] loss: 0.760 acc: 74.28 time: 6.60\n",
      "[5,   300] loss: 0.738 acc: 74.94 time: 6.45\n",
      "TESTING:\n",
      "Accuracy of the network on the 10000 test images: 75.37 %\n",
      "Average loss on the 10000 test images: 0.714\n",
      "[6,   100] loss: 0.725 acc: 75.42 time: 7.61\n",
      "[6,   200] loss: 0.743 acc: 74.50 time: 5.76\n",
      "[6,   300] loss: 0.730 acc: 75.02 time: 7.47\n",
      "TESTING:\n",
      "Accuracy of the network on the 10000 test images: 75.69 %\n",
      "Average loss on the 10000 test images: 0.713\n",
      "[7,   100] loss: 0.734 acc: 74.70 time: 7.61\n",
      "[7,   200] loss: 0.724 acc: 75.29 time: 5.83\n",
      "[7,   300] loss: 0.725 acc: 75.02 time: 7.42\n",
      "TESTING:\n",
      "Accuracy of the network on the 10000 test images: 75.49 %\n",
      "Average loss on the 10000 test images: 0.702\n",
      "[8,   100] loss: 0.728 acc: 75.30 time: 7.66\n",
      "[8,   200] loss: 0.715 acc: 75.68 time: 5.84\n",
      "[8,   300] loss: 0.731 acc: 74.98 time: 7.40\n",
      "TESTING:\n",
      "Accuracy of the network on the 10000 test images: 75.91 %\n",
      "Average loss on the 10000 test images: 0.700\n",
      "[9,   100] loss: 0.710 acc: 75.83 time: 6.39\n",
      "[9,   200] loss: 0.710 acc: 75.42 time: 6.55\n",
      "[9,   300] loss: 0.711 acc: 74.98 time: 6.69\n",
      "TESTING:\n",
      "Accuracy of the network on the 10000 test images: 76.16 %\n",
      "Average loss on the 10000 test images: 0.692\n",
      "[10,   100] loss: 0.718 acc: 75.62 time: 5.99\n",
      "[10,   200] loss: 0.717 acc: 75.31 time: 7.55\n",
      "[10,   300] loss: 0.709 acc: 75.80 time: 5.88\n",
      "TESTING:\n",
      "Accuracy of the network on the 10000 test images: 76.23 %\n",
      "Average loss on the 10000 test images: 0.690\n",
      "[11,   100] loss: 0.718 acc: 75.23 time: 6.15\n",
      "[11,   200] loss: 0.721 acc: 75.44 time: 7.47\n",
      "[11,   300] loss: 0.695 acc: 76.09 time: 5.86\n",
      "TESTING:\n",
      "Accuracy of the network on the 10000 test images: 76.24 %\n",
      "Average loss on the 10000 test images: 0.689\n",
      "[12,   100] loss: 0.714 acc: 75.37 time: 5.98\n",
      "[12,   200] loss: 0.710 acc: 75.74 time: 7.56\n",
      "[12,   300] loss: 0.701 acc: 75.95 time: 5.79\n",
      "TESTING:\n",
      "Accuracy of the network on the 10000 test images: 76.21 %\n",
      "Average loss on the 10000 test images: 0.689\n",
      "[13,   100] loss: 0.719 acc: 75.58 time: 7.22\n",
      "[13,   200] loss: 0.713 acc: 75.85 time: 6.35\n",
      "[13,   300] loss: 0.704 acc: 76.05 time: 6.53\n",
      "TESTING:\n",
      "Accuracy of the network on the 10000 test images: 76.14 %\n",
      "Average loss on the 10000 test images: 0.689\n",
      "[14,   100] loss: 0.708 acc: 75.77 time: 7.62\n",
      "[14,   200] loss: 0.700 acc: 76.07 time: 5.78\n",
      "[14,   300] loss: 0.710 acc: 75.56 time: 7.19\n",
      "TESTING:\n",
      "Accuracy of the network on the 10000 test images: 76.27 %\n",
      "Average loss on the 10000 test images: 0.689\n",
      "[15,   100] loss: 0.701 acc: 75.91 time: 7.61\n",
      "[15,   200] loss: 0.705 acc: 75.99 time: 5.79\n",
      "[15,   300] loss: 0.707 acc: 75.82 time: 7.50\n",
      "TESTING:\n",
      "Accuracy of the network on the 10000 test images: 76.10 %\n",
      "Average loss on the 10000 test images: 0.690\n",
      "[16,   100] loss: 0.717 acc: 75.63 time: 8.00\n",
      "[16,   200] loss: 0.711 acc: 75.48 time: 6.00\n",
      "[16,   300] loss: 0.690 acc: 76.33 time: 7.41\n",
      "TESTING:\n",
      "Accuracy of the network on the 10000 test images: 76.30 %\n",
      "Average loss on the 10000 test images: 0.690\n",
      "[17,   100] loss: 0.703 acc: 75.72 time: 6.59\n",
      "[17,   200] loss: 0.713 acc: 75.69 time: 6.54\n",
      "[17,   300] loss: 0.697 acc: 75.80 time: 6.68\n",
      "TESTING:\n",
      "Accuracy of the network on the 10000 test images: 76.31 %\n",
      "Average loss on the 10000 test images: 0.687\n",
      "[18,   100] loss: 0.714 acc: 75.35 time: 6.01\n",
      "[18,   200] loss: 0.695 acc: 76.35 time: 7.38\n",
      "[18,   300] loss: 0.717 acc: 75.35 time: 5.86\n",
      "TESTING:\n",
      "Accuracy of the network on the 10000 test images: 76.37 %\n",
      "Average loss on the 10000 test images: 0.688\n",
      "[19,   100] loss: 0.698 acc: 76.02 time: 6.01\n",
      "[19,   200] loss: 0.700 acc: 76.08 time: 7.50\n",
      "[19,   300] loss: 0.703 acc: 75.93 time: 5.80\n",
      "TESTING:\n",
      "Accuracy of the network on the 10000 test images: 76.38 %\n",
      "Average loss on the 10000 test images: 0.688\n",
      "[20,   100] loss: 0.699 acc: 76.04 time: 5.99\n",
      "[20,   200] loss: 0.708 acc: 75.82 time: 7.47\n",
      "[20,   300] loss: 0.693 acc: 76.72 time: 5.80\n",
      "TESTING:\n",
      "Accuracy of the network on the 10000 test images: 76.31 %\n",
      "Average loss on the 10000 test images: 0.689\n",
      "Finished Training\n"
     ]
    }
   ],
   "source": [
    "train(net, criterion, optimizer, num_epochs=20, decay_epochs=4, init_lr=0.1, task='classification')"
   ]
  },
  {
   "cell_type": "markdown",
   "metadata": {
    "id": "xjVTp9jhefTi"
   },
   "source": [
    "##Supervised training on the randomly initialized model\n",
    "In this section, we will randomly initialize a ResNet18 model and re-train the whole model on the classification task."
   ]
  },
  {
   "cell_type": "code",
   "execution_count": null,
   "metadata": {
    "id": "uEjy8TBieeLK"
   },
   "outputs": [],
   "source": [
    "import torch\n",
    "import torch.nn as nn\n",
    "import torch.nn.functional as F\n",
    "from torchvision.models import resnet18\n",
    "\n",
    "# Randomly initialize a ResNet18 model\n",
    "net = resnet18(num_classes=10)\n",
    "\n",
    "net = net.to(device)"
   ]
  },
  {
   "cell_type": "code",
   "execution_count": null,
   "metadata": {
    "id": "jEY90pK_0ZAm"
   },
   "outputs": [],
   "source": [
    "# TODO: Define criterion and optimizer\n",
    "criterion = nn.CrossEntropyLoss()\n",
    "optimizer = optim.SGD(net.parameters(), lr=0.1, momentum=0.9, weight_decay=5e-4)"
   ]
  },
  {
   "cell_type": "code",
   "execution_count": null,
   "metadata": {
    "colab": {
     "base_uri": "https://localhost:8080/"
    },
    "id": "3Hg5ofOTOWmZ",
    "outputId": "31f47527-1a65-4289-9443-360f242270dc",
    "scrolled": false
   },
   "outputs": [
    {
     "name": "stdout",
     "output_type": "stream",
     "text": [
      "[1,   100] loss: 2.046 acc: 26.81 time: 13.62\n",
      "[1,   200] loss: 1.719 acc: 37.32 time: 8.32\n",
      "[1,   300] loss: 1.574 acc: 42.45 time: 6.32\n",
      "TESTING:\n",
      "Accuracy of the network on the 10000 test images: 50.10 %\n",
      "Average loss on the 10000 test images: 1.395\n",
      "[2,   100] loss: 1.444 acc: 47.64 time: 6.02\n",
      "[2,   200] loss: 1.374 acc: 50.68 time: 7.47\n",
      "[2,   300] loss: 1.304 acc: 53.44 time: 5.87\n",
      "TESTING:\n",
      "Accuracy of the network on the 10000 test images: 55.24 %\n",
      "Average loss on the 10000 test images: 1.267\n",
      "[3,   100] loss: 1.229 acc: 55.73 time: 8.78\n",
      "[3,   200] loss: 1.189 acc: 57.82 time: 10.25\n",
      "[3,   300] loss: 1.165 acc: 57.84 time: 9.39\n",
      "TESTING:\n",
      "Accuracy of the network on the 10000 test images: 58.02 %\n",
      "Average loss on the 10000 test images: 1.218\n",
      "[4,   100] loss: 1.101 acc: 61.19 time: 7.15\n",
      "[4,   200] loss: 1.101 acc: 60.45 time: 6.65\n",
      "[4,   300] loss: 1.059 acc: 62.81 time: 7.44\n",
      "TESTING:\n",
      "Accuracy of the network on the 10000 test images: 63.80 %\n",
      "Average loss on the 10000 test images: 1.060\n",
      "[5,   100] loss: 0.998 acc: 64.66 time: 6.13\n",
      "[5,   200] loss: 1.002 acc: 64.44 time: 7.72\n",
      "[5,   300] loss: 0.976 acc: 65.42 time: 10.47\n",
      "TESTING:\n",
      "Accuracy of the network on the 10000 test images: 68.51 %\n",
      "Average loss on the 10000 test images: 0.894\n",
      "[6,   100] loss: 0.918 acc: 67.23 time: 7.63\n",
      "[6,   200] loss: 0.923 acc: 67.88 time: 5.98\n",
      "[6,   300] loss: 0.903 acc: 68.60 time: 6.92\n",
      "TESTING:\n",
      "Accuracy of the network on the 10000 test images: 69.62 %\n",
      "Average loss on the 10000 test images: 0.877\n",
      "[7,   100] loss: 0.865 acc: 69.66 time: 7.70\n",
      "[7,   200] loss: 0.865 acc: 69.45 time: 6.00\n",
      "[7,   300] loss: 0.850 acc: 70.41 time: 7.69\n",
      "TESTING:\n",
      "Accuracy of the network on the 10000 test images: 69.53 %\n",
      "Average loss on the 10000 test images: 0.860\n",
      "[8,   100] loss: 0.800 acc: 71.80 time: 8.48\n",
      "[8,   200] loss: 0.839 acc: 70.52 time: 6.12\n",
      "[8,   300] loss: 0.807 acc: 71.52 time: 7.64\n",
      "TESTING:\n",
      "Accuracy of the network on the 10000 test images: 70.81 %\n",
      "Average loss on the 10000 test images: 0.837\n",
      "[9,   100] loss: 0.773 acc: 72.77 time: 7.37\n",
      "[9,   200] loss: 0.779 acc: 72.39 time: 5.95\n",
      "[9,   300] loss: 0.775 acc: 72.98 time: 7.59\n",
      "TESTING:\n",
      "Accuracy of the network on the 10000 test images: 73.32 %\n",
      "Average loss on the 10000 test images: 0.765\n",
      "[10,   100] loss: 0.746 acc: 73.81 time: 6.56\n",
      "[10,   200] loss: 0.742 acc: 74.12 time: 6.96\n",
      "[10,   300] loss: 0.750 acc: 73.50 time: 8.38\n",
      "TESTING:\n",
      "Accuracy of the network on the 10000 test images: 72.40 %\n",
      "Average loss on the 10000 test images: 0.810\n",
      "[11,   100] loss: 0.661 acc: 76.93 time: 6.25\n",
      "[11,   200] loss: 0.613 acc: 78.48 time: 8.72\n",
      "[11,   300] loss: 0.619 acc: 77.93 time: 5.98\n",
      "TESTING:\n",
      "Accuracy of the network on the 10000 test images: 77.37 %\n",
      "Average loss on the 10000 test images: 0.645\n",
      "[12,   100] loss: 0.598 acc: 78.93 time: 8.27\n",
      "[12,   200] loss: 0.603 acc: 78.67 time: 7.26\n",
      "[12,   300] loss: 0.594 acc: 79.13 time: 7.20\n",
      "TESTING:\n",
      "Accuracy of the network on the 10000 test images: 77.71 %\n",
      "Average loss on the 10000 test images: 0.638\n",
      "[13,   100] loss: 0.583 acc: 79.32 time: 9.44\n",
      "[13,   200] loss: 0.584 acc: 79.28 time: 6.00\n",
      "[13,   300] loss: 0.587 acc: 79.33 time: 7.60\n",
      "TESTING:\n",
      "Accuracy of the network on the 10000 test images: 77.92 %\n",
      "Average loss on the 10000 test images: 0.627\n",
      "[14,   100] loss: 0.563 acc: 80.37 time: 6.93\n",
      "[14,   200] loss: 0.561 acc: 80.04 time: 6.20\n",
      "[14,   300] loss: 0.586 acc: 79.17 time: 8.57\n",
      "TESTING:\n",
      "Accuracy of the network on the 10000 test images: 78.11 %\n",
      "Average loss on the 10000 test images: 0.620\n",
      "[15,   100] loss: 0.551 acc: 80.55 time: 6.01\n",
      "[15,   200] loss: 0.572 acc: 79.56 time: 8.62\n",
      "[15,   300] loss: 0.566 acc: 80.03 time: 6.78\n",
      "TESTING:\n",
      "Accuracy of the network on the 10000 test images: 78.17 %\n",
      "Average loss on the 10000 test images: 0.621\n",
      "[16,   100] loss: 0.559 acc: 80.12 time: 6.59\n",
      "[16,   200] loss: 0.553 acc: 80.48 time: 8.32\n",
      "[16,   300] loss: 0.554 acc: 80.65 time: 6.91\n",
      "TESTING:\n",
      "Accuracy of the network on the 10000 test images: 78.28 %\n",
      "Average loss on the 10000 test images: 0.618\n",
      "[17,   100] loss: 0.537 acc: 81.26 time: 7.69\n",
      "[17,   200] loss: 0.546 acc: 80.70 time: 5.89\n",
      "[17,   300] loss: 0.542 acc: 81.01 time: 7.47\n",
      "TESTING:\n",
      "Accuracy of the network on the 10000 test images: 78.45 %\n",
      "Average loss on the 10000 test images: 0.615\n",
      "[18,   100] loss: 0.537 acc: 81.40 time: 8.00\n",
      "[18,   200] loss: 0.537 acc: 80.86 time: 6.81\n",
      "[18,   300] loss: 0.533 acc: 81.22 time: 7.71\n",
      "TESTING:\n",
      "Accuracy of the network on the 10000 test images: 78.49 %\n",
      "Average loss on the 10000 test images: 0.610\n",
      "[19,   100] loss: 0.538 acc: 81.20 time: 6.49\n",
      "[19,   200] loss: 0.529 acc: 81.20 time: 7.43\n",
      "[19,   300] loss: 0.537 acc: 80.57 time: 6.33\n",
      "TESTING:\n",
      "Accuracy of the network on the 10000 test images: 78.82 %\n",
      "Average loss on the 10000 test images: 0.606\n",
      "[20,   100] loss: 0.521 acc: 81.38 time: 6.15\n",
      "[20,   200] loss: 0.532 acc: 81.63 time: 7.59\n",
      "[20,   300] loss: 0.528 acc: 81.49 time: 5.84\n",
      "TESTING:\n",
      "Accuracy of the network on the 10000 test images: 78.81 %\n",
      "Average loss on the 10000 test images: 0.602\n",
      "Finished Training\n"
     ]
    }
   ],
   "source": [
    "train(net, criterion, optimizer, num_epochs=20, decay_epochs=10, init_lr=0.01, task='classification')"
   ]
  },
  {
   "cell_type": "markdown",
   "metadata": {
    "id": "mKTKY4onvByU"
   },
   "source": [
    "Extra part a)"
   ]
  },
  {
   "cell_type": "code",
   "execution_count": null,
   "metadata": {},
   "outputs": [],
   "source": []
  },
  {
   "cell_type": "markdown",
   "metadata": {
    "id": "0bBGApDwg5hb"
   },
   "source": [
    "**Part 1 Extra Credit (b)**"
   ]
  },
  {
   "cell_type": "code",
   "execution_count": null,
   "metadata": {
    "colab": {
     "base_uri": "https://localhost:8080/"
    },
    "id": "FA855Ycig9jw",
    "outputId": "94b80bdb-f816-41cd-ea53-fda043f3f2c7"
   },
   "outputs": [
    {
     "name": "stderr",
     "output_type": "stream",
     "text": [
      "/usr/local/lib/python3.9/dist-packages/torchvision/models/_utils.py:208: UserWarning: The parameter 'pretrained' is deprecated since 0.13 and may be removed in the future, please use 'weights' instead.\n",
      "  warnings.warn(\n",
      "/usr/local/lib/python3.9/dist-packages/torchvision/models/_utils.py:223: UserWarning: Arguments other than a weight enum or `None` for 'weights' are deprecated since 0.13 and may be removed in the future. The current behavior is equivalent to passing `weights=ResNet50_Weights.IMAGENET1K_V1`. You can also use `weights=ResNet50_Weights.DEFAULT` to get the most up-to-date weights.\n",
      "  warnings.warn(msg)\n",
      "Downloading: \"https://download.pytorch.org/models/resnet50-0676ba61.pth\" to /root/.cache/torch/hub/checkpoints/resnet50-0676ba61.pth\n",
      "100%|██████████| 97.8M/97.8M [00:00<00:00, 223MB/s]\n"
     ]
    }
   ],
   "source": [
    "# Load the pre-trained ResNet101 model\n",
    "resnet50 = models.resnet50(pretrained=True)\n",
    "\n",
    "# Modify the last layer for rotation prediction task\n",
    "num_features = resnet50.fc.in_features\n",
    "resnet50.fc = nn.Linear(num_features, 4)\n"
   ]
  },
  {
   "cell_type": "code",
   "execution_count": null,
   "metadata": {
    "colab": {
     "base_uri": "https://localhost:8080/",
     "height": 35
    },
    "id": "0ywFtQ8IhCWK",
    "outputId": "a9590f75-1aec-467f-dd71-9100cf70c168"
   },
   "outputs": [
    {
     "data": {
      "application/vnd.google.colaboratory.intrinsic+json": {
       "type": "string"
      },
      "text/plain": [
       "'cuda'"
      ]
     },
     "execution_count": 25,
     "metadata": {},
     "output_type": "execute_result"
    }
   ],
   "source": [
    "device = 'cuda' if torch.cuda.is_available() else 'cpu'\n",
    "\n",
    "device"
   ]
  },
  {
   "cell_type": "code",
   "execution_count": null,
   "metadata": {
    "id": "UmdkCwSEhOWT"
   },
   "outputs": [],
   "source": [
    "resnet50 = resnet50.to(device)"
   ]
  },
  {
   "cell_type": "code",
   "execution_count": null,
   "metadata": {
    "id": "uEM-qAWrhYfM"
   },
   "outputs": [],
   "source": [
    "import torch.optim as optim\n",
    "criterion = nn.CrossEntropyLoss()\n",
    "optimizer = optim.SGD(resnet50.parameters(), lr=0.1, momentum=0.9, weight_decay=1e-2)"
   ]
  },
  {
   "cell_type": "code",
   "execution_count": null,
   "metadata": {
    "colab": {
     "base_uri": "https://localhost:8080/"
    },
    "id": "thSHB1eQhYsg",
    "outputId": "78192299-6dc5-45fa-da30-5e2faf873825",
    "scrolled": false
   },
   "outputs": [
    {
     "name": "stdout",
     "output_type": "stream",
     "text": [
      "[1,   100] loss: 0.980 acc: 57.22 time: 9.06\n",
      "[1,   200] loss: 0.655 acc: 71.86 time: 7.49\n",
      "[1,   300] loss: 0.579 acc: 75.28 time: 8.76\n",
      "TESTING:\n",
      "Accuracy of the network on the 10000 test images: 74.12 %\n",
      "Average loss on the 10000 test images: 0.659\n",
      "[2,   100] loss: 0.517 acc: 78.23 time: 7.95\n",
      "[2,   200] loss: 0.499 acc: 79.44 time: 8.57\n",
      "[2,   300] loss: 0.494 acc: 79.49 time: 8.75\n",
      "TESTING:\n",
      "Accuracy of the network on the 10000 test images: 71.96 %\n",
      "Average loss on the 10000 test images: 0.711\n",
      "[3,   100] loss: 0.509 acc: 79.09 time: 8.88\n",
      "[3,   200] loss: 0.516 acc: 78.77 time: 8.88\n",
      "[3,   300] loss: 0.525 acc: 77.98 time: 7.44\n",
      "TESTING:\n",
      "Accuracy of the network on the 10000 test images: 69.65 %\n",
      "Average loss on the 10000 test images: 0.788\n",
      "[4,   100] loss: 0.532 acc: 77.73 time: 8.96\n",
      "[4,   200] loss: 0.543 acc: 77.07 time: 7.55\n",
      "[4,   300] loss: 0.557 acc: 77.02 time: 8.84\n",
      "TESTING:\n",
      "Accuracy of the network on the 10000 test images: 66.29 %\n",
      "Average loss on the 10000 test images: 0.839\n",
      "[5,   100] loss: 0.544 acc: 77.17 time: 7.64\n",
      "[5,   200] loss: 0.569 acc: 76.21 time: 8.82\n",
      "[5,   300] loss: 0.578 acc: 75.64 time: 7.79\n",
      "TESTING:\n",
      "Accuracy of the network on the 10000 test images: 63.49 %\n",
      "Average loss on the 10000 test images: 0.900\n",
      "[6,   100] loss: 0.493 acc: 79.46 time: 9.15\n",
      "[6,   200] loss: 0.433 acc: 82.34 time: 7.81\n",
      "[6,   300] loss: 0.420 acc: 82.73 time: 8.56\n",
      "TESTING:\n",
      "Accuracy of the network on the 10000 test images: 78.86 %\n",
      "Average loss on the 10000 test images: 0.555\n",
      "[7,   100] loss: 0.387 acc: 84.32 time: 7.96\n",
      "[7,   200] loss: 0.391 acc: 83.94 time: 8.55\n",
      "[7,   300] loss: 0.393 acc: 84.23 time: 9.24\n",
      "TESTING:\n",
      "Accuracy of the network on the 10000 test images: 80.01 %\n",
      "Average loss on the 10000 test images: 0.525\n",
      "[8,   100] loss: 0.373 acc: 85.06 time: 8.79\n",
      "[8,   200] loss: 0.372 acc: 85.31 time: 8.77\n",
      "[8,   300] loss: 0.367 acc: 85.25 time: 7.53\n",
      "TESTING:\n",
      "Accuracy of the network on the 10000 test images: 80.53 %\n",
      "Average loss on the 10000 test images: 0.510\n",
      "[9,   100] loss: 0.357 acc: 85.50 time: 8.95\n",
      "[9,   200] loss: 0.361 acc: 85.62 time: 7.47\n",
      "[9,   300] loss: 0.371 acc: 85.05 time: 8.84\n",
      "TESTING:\n",
      "Accuracy of the network on the 10000 test images: 81.14 %\n",
      "Average loss on the 10000 test images: 0.508\n",
      "[10,   100] loss: 0.350 acc: 85.88 time: 7.74\n",
      "[10,   200] loss: 0.341 acc: 86.41 time: 8.76\n",
      "[10,   300] loss: 0.352 acc: 85.62 time: 7.80\n",
      "TESTING:\n",
      "Accuracy of the network on the 10000 test images: 81.13 %\n",
      "Average loss on the 10000 test images: 0.493\n",
      "[11,   100] loss: 0.327 acc: 87.20 time: 9.06\n",
      "[11,   200] loss: 0.327 acc: 87.02 time: 7.90\n",
      "[11,   300] loss: 0.326 acc: 87.02 time: 8.43\n",
      "TESTING:\n",
      "Accuracy of the network on the 10000 test images: 83.53 %\n",
      "Average loss on the 10000 test images: 0.445\n",
      "[12,   100] loss: 0.312 acc: 87.95 time: 8.07\n",
      "[12,   200] loss: 0.302 acc: 87.87 time: 8.50\n",
      "[12,   300] loss: 0.305 acc: 87.92 time: 8.87\n",
      "TESTING:\n",
      "Accuracy of the network on the 10000 test images: 83.95 %\n",
      "Average loss on the 10000 test images: 0.436\n",
      "[13,   100] loss: 0.303 acc: 88.12 time: 8.89\n",
      "[13,   200] loss: 0.313 acc: 87.80 time: 8.67\n",
      "[13,   300] loss: 0.299 acc: 88.41 time: 7.45\n",
      "TESTING:\n",
      "Accuracy of the network on the 10000 test images: 83.61 %\n",
      "Average loss on the 10000 test images: 0.439\n",
      "[14,   100] loss: 0.293 acc: 88.53 time: 8.80\n",
      "[14,   200] loss: 0.296 acc: 88.58 time: 7.63\n",
      "[14,   300] loss: 0.298 acc: 88.66 time: 8.90\n",
      "TESTING:\n",
      "Accuracy of the network on the 10000 test images: 84.09 %\n",
      "Average loss on the 10000 test images: 0.425\n",
      "[15,   100] loss: 0.291 acc: 88.68 time: 7.80\n",
      "[15,   200] loss: 0.287 acc: 89.23 time: 8.91\n",
      "[15,   300] loss: 0.299 acc: 88.32 time: 7.55\n",
      "TESTING:\n",
      "Accuracy of the network on the 10000 test images: 84.43 %\n",
      "Average loss on the 10000 test images: 0.418\n",
      "[16,   100] loss: 0.297 acc: 88.20 time: 8.95\n",
      "[16,   200] loss: 0.291 acc: 88.73 time: 7.56\n",
      "[16,   300] loss: 0.282 acc: 89.31 time: 8.72\n",
      "TESTING:\n",
      "Accuracy of the network on the 10000 test images: 84.60 %\n",
      "Average loss on the 10000 test images: 0.418\n",
      "[17,   100] loss: 0.282 acc: 89.40 time: 7.70\n",
      "[17,   200] loss: 0.293 acc: 88.34 time: 8.76\n",
      "[17,   300] loss: 0.285 acc: 89.23 time: 8.55\n",
      "TESTING:\n",
      "Accuracy of the network on the 10000 test images: 84.22 %\n",
      "Average loss on the 10000 test images: 0.419\n",
      "[18,   100] loss: 0.299 acc: 88.44 time: 9.10\n",
      "[18,   200] loss: 0.284 acc: 88.84 time: 8.34\n",
      "[18,   300] loss: 0.288 acc: 88.96 time: 7.92\n",
      "TESTING:\n",
      "Accuracy of the network on the 10000 test images: 84.51 %\n",
      "Average loss on the 10000 test images: 0.412\n",
      "[19,   100] loss: 0.282 acc: 89.16 time: 8.52\n",
      "[19,   200] loss: 0.288 acc: 89.01 time: 8.49\n",
      "[19,   300] loss: 0.298 acc: 88.28 time: 9.17\n",
      "TESTING:\n",
      "Accuracy of the network on the 10000 test images: 84.68 %\n",
      "Average loss on the 10000 test images: 0.413\n",
      "[20,   100] loss: 0.289 acc: 89.19 time: 8.27\n",
      "[20,   200] loss: 0.282 acc: 88.96 time: 9.11\n",
      "[20,   300] loss: 0.293 acc: 89.01 time: 7.47\n",
      "TESTING:\n",
      "Accuracy of the network on the 10000 test images: 84.07 %\n",
      "Average loss on the 10000 test images: 0.421\n",
      "[21,   100] loss: 0.294 acc: 88.58 time: 9.12\n",
      "[21,   200] loss: 0.287 acc: 88.74 time: 7.21\n",
      "[21,   300] loss: 0.285 acc: 88.91 time: 8.81\n",
      "TESTING:\n",
      "Accuracy of the network on the 10000 test images: 84.70 %\n",
      "Average loss on the 10000 test images: 0.412\n",
      "[22,   100] loss: 0.293 acc: 88.48 time: 7.68\n",
      "[22,   200] loss: 0.293 acc: 88.73 time: 8.95\n",
      "[22,   300] loss: 0.287 acc: 88.82 time: 8.50\n",
      "TESTING:\n",
      "Accuracy of the network on the 10000 test images: 84.54 %\n",
      "Average loss on the 10000 test images: 0.417\n",
      "[23,   100] loss: 0.283 acc: 89.11 time: 9.25\n",
      "[23,   200] loss: 0.282 acc: 88.99 time: 8.48\n",
      "[23,   300] loss: 0.288 acc: 88.63 time: 7.98\n",
      "TESTING:\n",
      "Accuracy of the network on the 10000 test images: 85.08 %\n",
      "Average loss on the 10000 test images: 0.410\n",
      "[24,   100] loss: 0.281 acc: 89.23 time: 8.74\n",
      "[24,   200] loss: 0.300 acc: 88.36 time: 7.97\n",
      "[24,   300] loss: 0.295 acc: 88.47 time: 8.93\n",
      "TESTING:\n",
      "Accuracy of the network on the 10000 test images: 84.45 %\n",
      "Average loss on the 10000 test images: 0.422\n",
      "[25,   100] loss: 0.287 acc: 88.80 time: 8.20\n",
      "[25,   200] loss: 0.289 acc: 88.70 time: 8.99\n",
      "[25,   300] loss: 0.284 acc: 89.03 time: 7.53\n",
      "TESTING:\n",
      "Accuracy of the network on the 10000 test images: 84.34 %\n",
      "Average loss on the 10000 test images: 0.419\n",
      "[26,   100] loss: 0.293 acc: 88.53 time: 9.02\n",
      "[26,   200] loss: 0.293 acc: 88.55 time: 7.51\n",
      "[26,   300] loss: 0.289 acc: 89.05 time: 8.79\n",
      "TESTING:\n",
      "Accuracy of the network on the 10000 test images: 84.88 %\n",
      "Average loss on the 10000 test images: 0.408\n",
      "[27,   100] loss: 0.288 acc: 89.08 time: 7.71\n",
      "[27,   200] loss: 0.285 acc: 89.00 time: 8.93\n",
      "[27,   300] loss: 0.287 acc: 88.86 time: 8.49\n",
      "TESTING:\n",
      "Accuracy of the network on the 10000 test images: 84.83 %\n",
      "Average loss on the 10000 test images: 0.414\n",
      "[28,   100] loss: 0.294 acc: 88.63 time: 9.16\n",
      "[28,   200] loss: 0.296 acc: 88.45 time: 8.49\n",
      "[28,   300] loss: 0.281 acc: 89.32 time: 7.75\n",
      "TESTING:\n",
      "Accuracy of the network on the 10000 test images: 84.33 %\n",
      "Average loss on the 10000 test images: 0.424\n",
      "[29,   100] loss: 0.287 acc: 89.03 time: 8.77\n",
      "[29,   200] loss: 0.283 acc: 89.36 time: 7.95\n",
      "[29,   300] loss: 0.295 acc: 88.49 time: 8.78\n",
      "TESTING:\n",
      "Accuracy of the network on the 10000 test images: 84.24 %\n",
      "Average loss on the 10000 test images: 0.419\n",
      "[30,   100] loss: 0.280 acc: 89.31 time: 8.08\n",
      "[30,   200] loss: 0.285 acc: 89.16 time: 8.79\n",
      "[30,   300] loss: 0.296 acc: 88.36 time: 7.55\n",
      "TESTING:\n",
      "Accuracy of the network on the 10000 test images: 84.46 %\n",
      "Average loss on the 10000 test images: 0.420\n",
      "[31,   100] loss: 0.290 acc: 88.62 time: 9.30\n",
      "[31,   200] loss: 0.285 acc: 89.15 time: 7.61\n",
      "[31,   300] loss: 0.287 acc: 88.62 time: 8.91\n",
      "TESTING:\n",
      "Accuracy of the network on the 10000 test images: 85.04 %\n",
      "Average loss on the 10000 test images: 0.410\n",
      "[32,   100] loss: 0.288 acc: 88.80 time: 7.79\n",
      "[32,   200] loss: 0.292 acc: 88.70 time: 8.73\n",
      "[32,   300] loss: 0.282 acc: 89.26 time: 8.69\n",
      "TESTING:\n",
      "Accuracy of the network on the 10000 test images: 84.81 %\n",
      "Average loss on the 10000 test images: 0.411\n",
      "[33,   100] loss: 0.294 acc: 88.41 time: 9.17\n",
      "[33,   200] loss: 0.290 acc: 88.93 time: 9.18\n",
      "[33,   300] loss: 0.293 acc: 88.76 time: 7.75\n",
      "TESTING:\n",
      "Accuracy of the network on the 10000 test images: 84.75 %\n",
      "Average loss on the 10000 test images: 0.412\n",
      "[34,   100] loss: 0.290 acc: 88.89 time: 9.34\n",
      "[34,   200] loss: 0.286 acc: 88.62 time: 7.76\n",
      "[34,   300] loss: 0.296 acc: 88.49 time: 9.20\n",
      "TESTING:\n",
      "Accuracy of the network on the 10000 test images: 84.92 %\n",
      "Average loss on the 10000 test images: 0.408\n",
      "[35,   100] loss: 0.285 acc: 89.13 time: 7.84\n",
      "[35,   200] loss: 0.288 acc: 88.83 time: 8.85\n",
      "[35,   300] loss: 0.293 acc: 88.59 time: 8.44\n",
      "TESTING:\n",
      "Accuracy of the network on the 10000 test images: 84.72 %\n",
      "Average loss on the 10000 test images: 0.409\n",
      "[36,   100] loss: 0.287 acc: 88.71 time: 9.24\n",
      "[36,   200] loss: 0.283 acc: 89.09 time: 8.88\n",
      "[36,   300] loss: 0.280 acc: 89.20 time: 7.84\n",
      "TESTING:\n",
      "Accuracy of the network on the 10000 test images: 84.66 %\n",
      "Average loss on the 10000 test images: 0.415\n",
      "[37,   100] loss: 0.281 acc: 89.10 time: 9.13\n",
      "[37,   200] loss: 0.285 acc: 89.06 time: 7.67\n",
      "[37,   300] loss: 0.293 acc: 88.40 time: 8.98\n",
      "TESTING:\n",
      "Accuracy of the network on the 10000 test images: 84.55 %\n",
      "Average loss on the 10000 test images: 0.417\n",
      "[38,   100] loss: 0.299 acc: 88.32 time: 7.87\n",
      "[38,   200] loss: 0.286 acc: 88.91 time: 8.96\n",
      "[38,   300] loss: 0.285 acc: 89.08 time: 7.65\n",
      "TESTING:\n",
      "Accuracy of the network on the 10000 test images: 84.68 %\n",
      "Average loss on the 10000 test images: 0.411\n",
      "[39,   100] loss: 0.293 acc: 88.59 time: 9.16\n",
      "[39,   200] loss: 0.289 acc: 88.66 time: 7.80\n",
      "[39,   300] loss: 0.291 acc: 88.63 time: 8.59\n",
      "TESTING:\n",
      "Accuracy of the network on the 10000 test images: 84.55 %\n",
      "Average loss on the 10000 test images: 0.419\n",
      "[40,   100] loss: 0.286 acc: 89.02 time: 7.53\n",
      "[40,   200] loss: 0.292 acc: 88.62 time: 8.54\n",
      "[40,   300] loss: 0.292 acc: 88.66 time: 8.47\n",
      "TESTING:\n",
      "Accuracy of the network on the 10000 test images: 84.34 %\n",
      "Average loss on the 10000 test images: 0.414\n",
      "[41,   100] loss: 0.288 acc: 88.86 time: 8.91\n",
      "[41,   200] loss: 0.279 acc: 89.29 time: 8.34\n",
      "[41,   300] loss: 0.293 acc: 88.77 time: 7.71\n",
      "TESTING:\n",
      "Accuracy of the network on the 10000 test images: 84.70 %\n",
      "Average loss on the 10000 test images: 0.416\n",
      "[42,   100] loss: 0.295 acc: 88.51 time: 8.00\n",
      "[42,   200] loss: 0.289 acc: 88.76 time: 8.35\n",
      "[42,   300] loss: 0.295 acc: 88.45 time: 8.57\n",
      "TESTING:\n",
      "Accuracy of the network on the 10000 test images: 84.64 %\n",
      "Average loss on the 10000 test images: 0.413\n",
      "[43,   100] loss: 0.289 acc: 88.77 time: 8.98\n",
      "[43,   200] loss: 0.284 acc: 88.85 time: 8.72\n",
      "[43,   300] loss: 0.294 acc: 88.44 time: 7.33\n",
      "TESTING:\n",
      "Accuracy of the network on the 10000 test images: 84.84 %\n",
      "Average loss on the 10000 test images: 0.416\n",
      "[44,   100] loss: 0.298 acc: 88.63 time: 8.82\n",
      "[44,   200] loss: 0.286 acc: 89.03 time: 7.50\n",
      "[44,   300] loss: 0.285 acc: 89.20 time: 8.63\n",
      "TESTING:\n",
      "Accuracy of the network on the 10000 test images: 84.74 %\n",
      "Average loss on the 10000 test images: 0.416\n",
      "[45,   100] loss: 0.278 acc: 89.03 time: 7.74\n",
      "[45,   200] loss: 0.287 acc: 88.59 time: 8.62\n",
      "[45,   300] loss: 0.296 acc: 88.48 time: 7.32\n",
      "TESTING:\n",
      "Accuracy of the network on the 10000 test images: 84.89 %\n",
      "Average loss on the 10000 test images: 0.410\n",
      "Finished Training\n"
     ]
    }
   ],
   "source": [
    "train(resnet50, criterion, optimizer, num_epochs=45, decay_epochs=5, init_lr=0.01, task='rotation')\n"
   ]
  },
  {
   "cell_type": "code",
   "execution_count": null,
   "metadata": {
    "id": "2W_xZJVM0IQO"
   },
   "outputs": [],
   "source": [
    "torch.save(resnet50.state_dict(), 'rotation_model_extra.pth')"
   ]
  },
  {
   "cell_type": "code",
   "execution_count": null,
   "metadata": {
    "id": "gSEOiJNc0Pnc"
   },
   "outputs": [],
   "source": [
    "import torch\n",
    "import torch.nn as nn\n",
    "import torch.nn.functional as F\n",
    "\n",
    "from torchvision import models\n",
    "\n",
    "# Load the previously trained ResNet18 model\n",
    "net = models.resnet50(num_classes=4)\n",
    "\n",
    "saved_path = 'rotation_model_extra.pth'\n",
    "net.load_state_dict(torch.load(saved_path))\n",
    "\n",
    "# Move the model to the device (GPU or CPU)\n",
    "device = torch.device('cuda' if torch.cuda.is_available() else 'cpu')\n",
    "num_classes = 10 \n",
    "net.fc = nn.Linear(net.fc.in_features, num_classes).to(device)"
   ]
  },
  {
   "cell_type": "code",
   "execution_count": null,
   "metadata": {
    "id": "YuOQxi4B0Q4h"
   },
   "outputs": [],
   "source": [
    "for param in net.parameters():\n",
    "    param.requires_grad = False\n",
    "\n",
    "# Unfreeze the 'layer4' block and 'fc' layer\n",
    "for param in net.layer4.parameters():\n",
    "    param.requires_grad = True\n",
    "\n",
    "for param in net.fc.parameters():\n",
    "    param.requires_grad = True"
   ]
  },
  {
   "cell_type": "code",
   "execution_count": null,
   "metadata": {
    "colab": {
     "base_uri": "https://localhost:8080/"
    },
    "id": "NJITpywa0Q7T",
    "outputId": "0d8c49cc-fe62-4a33-a1de-c3e63df1aa0a"
   },
   "outputs": [
    {
     "name": "stdout",
     "output_type": "stream",
     "text": [
      "Params to learn:\n",
      "\t layer4.0.conv1.weight\n",
      "\t layer4.0.bn1.weight\n",
      "\t layer4.0.bn1.bias\n",
      "\t layer4.0.conv2.weight\n",
      "\t layer4.0.bn2.weight\n",
      "\t layer4.0.bn2.bias\n",
      "\t layer4.0.conv3.weight\n",
      "\t layer4.0.bn3.weight\n",
      "\t layer4.0.bn3.bias\n",
      "\t layer4.0.downsample.0.weight\n",
      "\t layer4.0.downsample.1.weight\n",
      "\t layer4.0.downsample.1.bias\n",
      "\t layer4.1.conv1.weight\n",
      "\t layer4.1.bn1.weight\n",
      "\t layer4.1.bn1.bias\n",
      "\t layer4.1.conv2.weight\n",
      "\t layer4.1.bn2.weight\n",
      "\t layer4.1.bn2.bias\n",
      "\t layer4.1.conv3.weight\n",
      "\t layer4.1.bn3.weight\n",
      "\t layer4.1.bn3.bias\n",
      "\t layer4.2.conv1.weight\n",
      "\t layer4.2.bn1.weight\n",
      "\t layer4.2.bn1.bias\n",
      "\t layer4.2.conv2.weight\n",
      "\t layer4.2.bn2.weight\n",
      "\t layer4.2.bn2.bias\n",
      "\t layer4.2.conv3.weight\n",
      "\t layer4.2.bn3.weight\n",
      "\t layer4.2.bn3.bias\n",
      "\t fc.weight\n",
      "\t fc.bias\n"
     ]
    }
   ],
   "source": [
    "# Print all the trainable parameters\n",
    "params_to_update = net.parameters()\n",
    "print(\"Params to learn:\")\n",
    "params_to_update = []\n",
    "for name,param in net.named_parameters():\n",
    "    if param.requires_grad == True:\n",
    "        params_to_update.append(param)\n",
    "        print(\"\\t\",name)"
   ]
  },
  {
   "cell_type": "code",
   "execution_count": null,
   "metadata": {
    "id": "WYbky6tj0Q-P"
   },
   "outputs": [],
   "source": [
    "optimizer = optim.SGD(net.parameters(), lr=0.1, momentum=0.9, weight_decay=1e-3)"
   ]
  },
  {
   "cell_type": "code",
   "execution_count": null,
   "metadata": {
    "id": "kUmdm3eJ0RA_"
   },
   "outputs": [],
   "source": [
    "criterion = nn.CrossEntropyLoss()\n",
    "\n",
    "net = net.to(device)"
   ]
  },
  {
   "cell_type": "code",
   "execution_count": null,
   "metadata": {
    "colab": {
     "base_uri": "https://localhost:8080/"
    },
    "id": "GhNYaIYp0RD_",
    "outputId": "995adf11-30e2-40fb-ab84-a03da916b9e3",
    "scrolled": false
   },
   "outputs": [
    {
     "name": "stdout",
     "output_type": "stream",
     "text": [
      "[1,   100] loss: 1.629 acc: 37.02 time: 8.02\n",
      "[1,   200] loss: 1.374 acc: 48.36 time: 6.24\n",
      "[1,   300] loss: 1.333 acc: 50.48 time: 7.80\n",
      "TESTING:\n",
      "Accuracy of the network on the 10000 test images: 51.48 %\n",
      "Average loss on the 10000 test images: 1.289\n",
      "[2,   100] loss: 1.252 acc: 54.67 time: 6.54\n",
      "[2,   200] loss: 1.245 acc: 54.31 time: 7.62\n",
      "[2,   300] loss: 1.221 acc: 55.62 time: 6.44\n",
      "TESTING:\n",
      "Accuracy of the network on the 10000 test images: 58.33 %\n",
      "Average loss on the 10000 test images: 1.151\n",
      "[3,   100] loss: 1.208 acc: 56.43 time: 6.48\n",
      "[3,   200] loss: 1.194 acc: 56.59 time: 8.67\n",
      "[3,   300] loss: 1.191 acc: 56.94 time: 6.22\n",
      "TESTING:\n",
      "Accuracy of the network on the 10000 test images: 60.45 %\n",
      "Average loss on the 10000 test images: 1.092\n",
      "[4,   100] loss: 1.184 acc: 56.80 time: 8.16\n",
      "[4,   200] loss: 1.186 acc: 57.83 time: 6.54\n",
      "[4,   300] loss: 1.183 acc: 57.73 time: 7.93\n",
      "TESTING:\n",
      "Accuracy of the network on the 10000 test images: 55.69 %\n",
      "Average loss on the 10000 test images: 1.211\n",
      "[5,   100] loss: 1.107 acc: 60.01 time: 8.00\n",
      "[5,   200] loss: 1.069 acc: 61.82 time: 6.80\n",
      "[5,   300] loss: 1.057 acc: 62.01 time: 7.57\n",
      "TESTING:\n",
      "Accuracy of the network on the 10000 test images: 64.44 %\n",
      "Average loss on the 10000 test images: 0.985\n",
      "[6,   100] loss: 1.031 acc: 63.41 time: 6.65\n",
      "[6,   200] loss: 1.025 acc: 62.99 time: 7.96\n",
      "[6,   300] loss: 1.037 acc: 62.29 time: 6.34\n",
      "TESTING:\n",
      "Accuracy of the network on the 10000 test images: 65.02 %\n",
      "Average loss on the 10000 test images: 0.964\n",
      "[7,   100] loss: 1.015 acc: 63.13 time: 7.93\n",
      "[7,   200] loss: 1.002 acc: 63.82 time: 6.49\n",
      "[7,   300] loss: 1.020 acc: 63.36 time: 7.80\n",
      "TESTING:\n",
      "Accuracy of the network on the 10000 test images: 66.21 %\n",
      "Average loss on the 10000 test images: 0.940\n",
      "[8,   100] loss: 1.006 acc: 63.51 time: 8.22\n",
      "[8,   200] loss: 0.999 acc: 64.25 time: 6.29\n",
      "[8,   300] loss: 1.007 acc: 63.90 time: 7.88\n",
      "TESTING:\n",
      "Accuracy of the network on the 10000 test images: 66.80 %\n",
      "Average loss on the 10000 test images: 0.930\n",
      "[9,   100] loss: 0.987 acc: 63.98 time: 6.52\n",
      "[9,   200] loss: 0.979 acc: 64.72 time: 7.85\n",
      "[9,   300] loss: 0.966 acc: 65.34 time: 6.51\n",
      "TESTING:\n",
      "Accuracy of the network on the 10000 test images: 67.44 %\n",
      "Average loss on the 10000 test images: 0.914\n",
      "[10,   100] loss: 0.981 acc: 65.38 time: 7.26\n",
      "[10,   200] loss: 0.960 acc: 65.77 time: 7.31\n",
      "[10,   300] loss: 0.950 acc: 66.50 time: 6.97\n",
      "TESTING:\n",
      "Accuracy of the network on the 10000 test images: 67.36 %\n",
      "Average loss on the 10000 test images: 0.909\n",
      "[11,   100] loss: 0.969 acc: 65.66 time: 8.28\n",
      "[11,   200] loss: 0.951 acc: 66.03 time: 6.41\n",
      "[11,   300] loss: 0.945 acc: 65.71 time: 8.05\n",
      "TESTING:\n",
      "Accuracy of the network on the 10000 test images: 67.59 %\n",
      "Average loss on the 10000 test images: 0.906\n",
      "[12,   100] loss: 0.952 acc: 66.10 time: 6.85\n",
      "[12,   200] loss: 0.955 acc: 65.66 time: 7.60\n",
      "[12,   300] loss: 0.942 acc: 66.28 time: 6.55\n",
      "TESTING:\n",
      "Accuracy of the network on the 10000 test images: 67.62 %\n",
      "Average loss on the 10000 test images: 0.900\n",
      "[13,   100] loss: 0.930 acc: 66.48 time: 6.60\n",
      "[13,   200] loss: 0.943 acc: 65.78 time: 8.21\n",
      "[13,   300] loss: 0.952 acc: 66.20 time: 6.42\n",
      "TESTING:\n",
      "Accuracy of the network on the 10000 test images: 67.90 %\n",
      "Average loss on the 10000 test images: 0.901\n",
      "[14,   100] loss: 0.957 acc: 65.37 time: 8.27\n",
      "[14,   200] loss: 0.929 acc: 66.56 time: 6.45\n",
      "[14,   300] loss: 0.944 acc: 66.20 time: 8.20\n",
      "TESTING:\n",
      "Accuracy of the network on the 10000 test images: 68.13 %\n",
      "Average loss on the 10000 test images: 0.896\n",
      "[15,   100] loss: 0.943 acc: 66.59 time: 7.58\n",
      "[15,   200] loss: 0.932 acc: 66.29 time: 7.34\n",
      "[15,   300] loss: 0.942 acc: 66.51 time: 7.21\n",
      "TESTING:\n",
      "Accuracy of the network on the 10000 test images: 67.83 %\n",
      "Average loss on the 10000 test images: 0.901\n",
      "[16,   100] loss: 0.942 acc: 66.34 time: 6.57\n",
      "[16,   200] loss: 0.937 acc: 66.05 time: 7.97\n",
      "[16,   300] loss: 0.954 acc: 65.44 time: 6.43\n",
      "TESTING:\n",
      "Accuracy of the network on the 10000 test images: 67.90 %\n",
      "Average loss on the 10000 test images: 0.899\n",
      "[17,   100] loss: 0.945 acc: 66.09 time: 8.21\n",
      "[17,   200] loss: 0.948 acc: 66.08 time: 6.39\n",
      "[17,   300] loss: 0.943 acc: 65.88 time: 8.05\n",
      "TESTING:\n",
      "Accuracy of the network on the 10000 test images: 67.86 %\n",
      "Average loss on the 10000 test images: 0.900\n",
      "[18,   100] loss: 0.940 acc: 66.13 time: 8.05\n",
      "[18,   200] loss: 0.937 acc: 66.30 time: 6.23\n",
      "[18,   300] loss: 0.940 acc: 66.59 time: 8.11\n",
      "TESTING:\n",
      "Accuracy of the network on the 10000 test images: 67.85 %\n",
      "Average loss on the 10000 test images: 0.900\n",
      "[19,   100] loss: 0.945 acc: 66.30 time: 6.54\n",
      "[19,   200] loss: 0.928 acc: 66.59 time: 7.99\n",
      "[19,   300] loss: 0.944 acc: 66.06 time: 6.29\n",
      "TESTING:\n",
      "Accuracy of the network on the 10000 test images: 68.02 %\n",
      "Average loss on the 10000 test images: 0.896\n",
      "[20,   100] loss: 0.944 acc: 66.21 time: 7.40\n",
      "[20,   200] loss: 0.949 acc: 65.70 time: 7.39\n",
      "[20,   300] loss: 0.924 acc: 66.78 time: 7.69\n",
      "TESTING:\n",
      "Accuracy of the network on the 10000 test images: 68.07 %\n",
      "Average loss on the 10000 test images: 0.898\n",
      "Finished Training\n"
     ]
    }
   ],
   "source": [
    "train(net, criterion, optimizer, num_epochs=20, decay_epochs=4, init_lr=0.1, task='classification')"
   ]
  },
  {
   "cell_type": "markdown",
   "metadata": {
    "id": "E4h_CJ-09UuZ"
   },
   "source": [
    "**Extra credit part 1.c**"
   ]
  },
  {
   "cell_type": "code",
   "execution_count": 3,
   "metadata": {
    "id": "lcx36mgMxxfw"
   },
   "outputs": [],
   "source": [
    "import torch\n",
    "import torchvision\n",
    "import torchvision.transforms as transforms\n",
    "import numpy as np\n",
    "import random\n",
    "\n",
    "\n",
    "def rotate_img(img, rot):\n",
    "    if rot == 0: # 0 degrees rotation\n",
    "        return img\n",
    "    elif rot == 1: # 90 degrees rotation\n",
    "        return torch.rot90(img.permute(1,2,0), 3).permute(2,0,1)\n",
    "    elif rot == 2: # 180 degrees rotation\n",
    "        return torch.rot90(img, 2)\n",
    "    elif rot == 3: # 270 degrees rotation\n",
    "        return torch.rot90(img.permute(1,2,0), 1).permute(2,0,1)\n",
    "    \n",
    "    # TODO: Implement rotate_img() - return the rotated img\n",
    "    #\n",
    "    #\n",
    "    #\n",
    "    else:\n",
    "        raise ValueError('rotation should be 0, 90, 180, or 270 degrees')\n",
    "\n",
    "\n",
    "class CIFAR10Rotation(torchvision.datasets.ImageFolder):\n",
    "\n",
    "    def __init__(self, root, transform) -> None:\n",
    "        super().__init__(root=root, transform=transform)\n",
    "\n",
    "    def __getitem__(self, index: int):\n",
    "        image, cls_label = super().__getitem__(index)\n",
    "\n",
    "        # randomly select image rotation\n",
    "        rotation_label = random.choice([0, 1, 2, 3])\n",
    "        image_rotated = rotate_img(image, rotation_label)\n",
    "\n",
    "        rotation_label = torch.tensor(rotation_label).long()\n",
    "        return image, image_rotated, rotation_label, torch.tensor(cls_label).long()"
   ]
  },
  {
   "cell_type": "code",
   "execution_count": 4,
   "metadata": {
    "colab": {
     "base_uri": "https://localhost:8080/",
     "height": 37
    },
    "id": "FtPVQmsEydDH",
    "outputId": "c47b6fe6-51b9-4fa1-b878-77f32cbfef1d"
   },
   "outputs": [
    {
     "data": {
      "text/html": [
       "\n",
       "<style>\n",
       "    /* Turns off some styling */\n",
       "    progress {\n",
       "        /* gets rid of default border in Firefox and Opera. */\n",
       "        border: none;\n",
       "        /* Needs to be in here for Safari polyfill so background images work as expected. */\n",
       "        background-size: auto;\n",
       "    }\n",
       "    progress:not([value]), progress:not([value])::-webkit-progress-bar {\n",
       "        background: repeating-linear-gradient(45deg, #7e7e7e, #7e7e7e 10px, #5c5c5c 10px, #5c5c5c 20px);\n",
       "    }\n",
       "    .progress-bar-interrupted, .progress-bar-interrupted::-webkit-progress-bar {\n",
       "        background: #F44336;\n",
       "    }\n",
       "</style>\n"
      ],
      "text/plain": [
       "<IPython.core.display.HTML object>"
      ]
     },
     "metadata": {},
     "output_type": "display_data"
    },
    {
     "data": {
      "text/html": [
       "\n",
       "    <div>\n",
       "      <progress value='1557168128' class='' max='1557161267' style='width:300px; height:20px; vertical-align: middle;'></progress>\n",
       "      100.00% [1557168128/1557161267 01:37&lt;00:00]\n",
       "    </div>\n",
       "    "
      ],
      "text/plain": [
       "<IPython.core.display.HTML object>"
      ]
     },
     "metadata": {},
     "output_type": "display_data"
    }
   ],
   "source": [
    "from fastai.vision.all import *\n",
    "path = untar_data(URLs.IMAGENETTE)"
   ]
  },
  {
   "cell_type": "code",
   "execution_count": 5,
   "metadata": {
    "colab": {
     "base_uri": "https://localhost:8080/",
     "height": 0
    },
    "id": "jLCev2mK7B0h",
    "outputId": "ca953c0f-ca59-430a-bd8b-b9c05261a6e1"
   },
   "outputs": [
    {
     "data": {
      "text/plain": [
       "Path('/root/.fastai/data/imagenette2')"
      ]
     },
     "execution_count": 5,
     "metadata": {},
     "output_type": "execute_result"
    }
   ],
   "source": [
    "path"
   ]
  },
  {
   "cell_type": "code",
   "execution_count": 6,
   "metadata": {
    "id": "6aFd0VclxxdN"
   },
   "outputs": [],
   "source": [
    "transform_train = transforms.Compose([\n",
    "    transforms.Resize((256,256)),\n",
    "    transforms.Pad(padding=4),\n",
    "    transforms.RandomHorizontalFlip(),\n",
    "    transforms.ToTensor(),\n",
    "    transforms.Normalize((0.4914, 0.4822, 0.4465), (0.2023, 0.1994, 0.2010)),\n",
    "])\n",
    "\n",
    "transform_test = transforms.Compose([\n",
    "    transforms.ToTensor(),\n",
    "    transforms.Normalize((0.4914, 0.4822, 0.4465), (0.2023, 0.1994, 0.2010)),\n",
    "])\n",
    "\n",
    "batch_size = 128\n",
    "\n",
    "trainset = CIFAR10Rotation(root=str(path)+'/train', transform=transform_train)\n",
    "trainloader = torch.utils.data.DataLoader(trainset, batch_size=batch_size,\n",
    "                                          shuffle=True, num_workers=2)\n",
    "             \n",
    "testset = CIFAR10Rotation(root=str(path)+'/val', transform=transform_test)\n",
    "testloader = torch.utils.data.DataLoader(testset, batch_size=batch_size,\n",
    "                                         shuffle=False, num_workers=2)"
   ]
  },
  {
   "cell_type": "code",
   "execution_count": 7,
   "metadata": {
    "colab": {
     "base_uri": "https://localhost:8080/",
     "height": 432
    },
    "id": "vClKaq7TxxVv",
    "outputId": "f8a87b38-25e9-4f8d-ff5f-ba0f2cc7091f"
   },
   "outputs": [
    {
     "name": "stderr",
     "output_type": "stream",
     "text": [
      "WARNING:matplotlib.image:Clipping input data to the valid range for imshow with RGB data ([0..1] for floats or [0..255] for integers).\n"
     ]
    },
    {
     "data": {
      "image/png": "[encoded data removed]",
      "text/plain": [
       "<Figure size 640x480 with 1 Axes>"
      ]
     },
     "metadata": {},
     "output_type": "display_data"
    },
    {
     "name": "stderr",
     "output_type": "stream",
     "text": [
      "WARNING:matplotlib.image:Clipping input data to the valid range for imshow with RGB data ([0..1] for floats or [0..255] for integers).\n"
     ]
    },
    {
     "name": "stdout",
     "output_type": "stream",
     "text": [
      "Class labels:  horse car   frog  truck\n"
     ]
    },
    {
     "data": {
      "image/png": "[encoded data removed]",
      "text/plain": [
       "<Figure size 640x480 with 1 Axes>"
      ]
     },
     "metadata": {},
     "output_type": "display_data"
    },
    {
     "name": "stdout",
     "output_type": "stream",
     "text": [
      "Rotation labels:  180   90    270   0    \n"
     ]
    }
   ],
   "source": [
    "import matplotlib.pyplot as plt\n",
    "\n",
    "classes = ('plane', 'car', 'bird', 'cat',\n",
    "           'deer', 'dog', 'frog', 'horse', 'ship', 'truck')\n",
    "\n",
    "rot_classes = ('0', '90', '180', '270')\n",
    "\n",
    "\n",
    "def imshow(img):\n",
    "    # unnormalize\n",
    "    img = transforms.Normalize((0, 0, 0), (1/0.2023, 1/0.1994, 1/0.2010))(img)\n",
    "    img = transforms.Normalize((-0.4914, -0.4822, -0.4465), (1, 1, 1))(img)\n",
    "    npimg = img.numpy()\n",
    "    plt.imshow(np.transpose(npimg, (1, 2, 0)))\n",
    "    plt.show()\n",
    "\n",
    "\n",
    "dataiter = iter(trainloader)\n",
    "images, rot_images, rot_labels, labels = next(dataiter)\n",
    "\n",
    "# print images and rotated images\n",
    "img_grid = imshow(torchvision.utils.make_grid(images[:4], padding=0))\n",
    "print('Class labels: ', ' '.join(f'{classes[labels[j]]:5s}' for j in range(4)))\n",
    "img_grid = imshow(torchvision.utils.make_grid(rot_images[:4], padding=0))\n",
    "print('Rotation labels: ', ' '.join(f'{rot_classes[rot_labels[j]]:5s}' for j in range(4)))"
   ]
  },
  {
   "cell_type": "code",
   "execution_count": 8,
   "metadata": {
    "id": "5h0gWjv--dnc"
   },
   "outputs": [],
   "source": [
    "import time\n",
    "\n",
    "def run_test(net, testloader, criterion, task):\n",
    "    correct = 0\n",
    "    total = 0\n",
    "    avg_test_loss = 0.0\n",
    "    # since we're not training, we don't need to calculate the gradients for our outputs\n",
    "    with torch.no_grad():\n",
    "        for images, images_rotated, labels, cls_labels in testloader:\n",
    "            if task == 'rotation':\n",
    "              images, labels = images_rotated.to(device), labels.to(device)\n",
    "            elif task == 'classification':\n",
    "              images, labels = images.to(device), cls_labels.to(device)\n",
    "            # TODO: Calculate outputs by running images through the network\n",
    "            # The class with the highest energy is what we choose as prediction\n",
    "            #\n",
    "            #\n",
    "            #\n",
    "            # Calculate outputs by running images through the network\n",
    "\n",
    "\n",
    "            outputs = net(images)\n",
    "            _, predicted = torch.max(outputs.data, 1)\n",
    "\n",
    "            #correct += labels.size(0)\n",
    "            total += labels.size(0)\n",
    "            # loss\n",
    "            correct += (predicted == labels).sum().item()\n",
    "            avg_test_loss += criterion(outputs, labels)  / len(testloader)\n",
    "            \n",
    "            # doubt on below line\n",
    "            #total += avg_test_loss\n",
    "\n",
    "\n",
    "    print('TESTING:')\n",
    "    print(f'Accuracy of the network on the 10000 test images: {(100 * correct) / total:.2f} %')\n",
    "    print(f'Average loss on the 10000 test images: {avg_test_loss:.3f}')"
   ]
  },
  {
   "cell_type": "code",
   "execution_count": 9,
   "metadata": {
    "id": "Bg04yT9E-dkY"
   },
   "outputs": [],
   "source": [
    "def adjust_learning_rate(optimizer, epoch, init_lr, decay_epochs=30):\n",
    "    \"\"\"Sets the learning rate to the initial LR decayed by 10 every 30 epochs\"\"\"\n",
    "    lr = init_lr * (0.1 ** (epoch // decay_epochs))\n",
    "    for param_group in optimizer.param_groups:\n",
    "        param_group['lr'] = lr"
   ]
  },
  {
   "cell_type": "code",
   "execution_count": 10,
   "metadata": {
    "colab": {
     "base_uri": "https://localhost:8080/",
     "height": 35
    },
    "id": "HM9zS8NS-dhS",
    "outputId": "9b243e13-6645-4c2f-bacd-5d3dbd3460d1"
   },
   "outputs": [
    {
     "data": {
      "application/vnd.google.colaboratory.intrinsic+json": {
       "type": "string"
      },
      "text/plain": [
       "'cpu'"
      ]
     },
     "execution_count": 10,
     "metadata": {},
     "output_type": "execute_result"
    }
   ],
   "source": [
    "#device = 'cuda' if torch.cuda.is_available() else 'cpu'\n",
    "\n",
    "\n",
    "device = 'cuda' if torch.cuda.is_available() else 'cpu'\n",
    "\n",
    "device"
   ]
  },
  {
   "cell_type": "code",
   "execution_count": 11,
   "metadata": {
    "id": "yknjVNpk-deI"
   },
   "outputs": [],
   "source": [
    "import torch.nn as nn\n",
    "import torch.nn.functional as F\n",
    "\n",
    "from torchvision.models import resnet18\n",
    "\n",
    "net = resnet18(num_classes=4)\n",
    "net = net.to(device)"
   ]
  },
  {
   "cell_type": "code",
   "execution_count": 11,
   "metadata": {
    "colab": {
     "base_uri": "https://localhost:8080/",
     "height": 0
    },
    "id": "A2FNcxeE9S26",
    "outputId": "dd49272e-b456-4375-b5d5-f56a64a1ccf1"
   },
   "outputs": [
    {
     "name": "stderr",
     "output_type": "stream",
     "text": [
      "/usr/local/lib/python3.9/dist-packages/torchvision/models/_utils.py:208: UserWarning: The parameter 'pretrained' is deprecated since 0.13 and may be removed in the future, please use 'weights' instead.\n",
      "  warnings.warn(\n",
      "/usr/local/lib/python3.9/dist-packages/torchvision/models/_utils.py:223: UserWarning: Arguments other than a weight enum or `None` for 'weights' are deprecated since 0.13 and may be removed in the future. The current behavior is equivalent to passing `weights=ResNet50_Weights.IMAGENET1K_V1`. You can also use `weights=ResNet50_Weights.DEFAULT` to get the most up-to-date weights.\n",
      "  warnings.warn(msg)\n",
      "Downloading: \"https://download.pytorch.org/models/resnet50-0676ba61.pth\" to /root/.cache/torch/hub/checkpoints/resnet50-0676ba61.pth\n",
      "100%|██████████| 97.8M/97.8M [00:01<00:00, 92.6MB/s]\n"
     ]
    }
   ],
   "source": [
    "net = models.resnet50(pretrained=True)\n",
    "num_features = net.fc.in_features\n",
    "net.fc = nn.Linear(num_features, 10)\n",
    "net = net.to(device)"
   ]
  },
  {
   "cell_type": "code",
   "execution_count": 12,
   "metadata": {
    "colab": {
     "base_uri": "https://localhost:8080/",
     "height": 35
    },
    "id": "A3Q9jUerD6QG",
    "outputId": "b4ec8121-d682-45a9-cea5-41629e9589ef"
   },
   "outputs": [
    {
     "data": {
      "application/vnd.google.colaboratory.intrinsic+json": {
       "type": "string"
      },
      "text/plain": [
       "'cpu'"
      ]
     },
     "execution_count": 12,
     "metadata": {},
     "output_type": "execute_result"
    }
   ],
   "source": [
    "device"
   ]
  },
  {
   "cell_type": "code",
   "execution_count": 13,
   "metadata": {
    "id": "fPr0VI6jwpvl"
   },
   "outputs": [],
   "source": [
    "import torch.optim as optim\n",
    "criterion = nn.CrossEntropyLoss()\n",
    "optimizer = optim.SGD(net.parameters(), lr=0.1, momentum=0.9, weight_decay=5e-4)"
   ]
  },
  {
   "cell_type": "code",
   "execution_count": 14,
   "metadata": {
    "id": "IWmHTz24-dbw"
   },
   "outputs": [],
   "source": [
    "# Both the self-supervised rotation task and supervised CIFAR10 classification are\n",
    "# trained with the CrossEntropyLoss, so we can use the training loop code.\n",
    "\n",
    "def train(net, criterion, optimizer, num_epochs, decay_epochs, init_lr, task):\n",
    "\n",
    "    for epoch in range(num_epochs):  # loop over the dataset multiple times\n",
    "\n",
    "        running_loss = 0.0\n",
    "        running_correct = 0.0\n",
    "        running_total = 0.0\n",
    "        start_time = time.time()\n",
    "\n",
    "        net.train()\n",
    "        adjust_learning_rate(optimizer, epoch, init_lr, decay_epochs)\n",
    "\n",
    "        \n",
    "        for i, (imgs, imgs_rotated, rotation_label, cls_label) in enumerate(trainloader, 0):\n",
    "            \n",
    "\n",
    "            # TODO: Set the data to the correct device; Different task will use different inputs and labels\n",
    "            #\n",
    "\n",
    "            # TODO: Zero the parameter gradients\n",
    "            #\n",
    "\n",
    "            # TODO: forward + backward + optimize\n",
    "            #\n",
    "            #\n",
    "            #\n",
    "            #\n",
    "            #\n",
    "            # Set the data to the correct device; Different task will use different inputs and labels\n",
    "            if task == 'rotation':\n",
    "              images, labels = imgs_rotated.to(device), rotation_label.to(device)\n",
    "            elif task == 'classification':\n",
    "              images, labels = imgs.to(device), cls_label.to(device)\n",
    "\n",
    "            # Zero the parameter gradients\n",
    "            optimizer.zero_grad()\n",
    "\n",
    "            # forward + backward + optimize\n",
    "            outputs = net(images)\n",
    "            loss = criterion(outputs, labels)\n",
    "            loss.backward()\n",
    "            optimizer.step()\n",
    "            # TODO: Get predicted results\n",
    "\n",
    "            predicted = torch.argmax(outputs, 1)\n",
    "\n",
    "            # print statistics\n",
    "            print_freq = 100\n",
    "            running_loss += loss.item()\n",
    "\n",
    "            # calc acc\n",
    "            running_total += labels.size(0)\n",
    "            running_correct += (predicted == labels).sum().item()\n",
    "\n",
    "            if i % print_freq == (print_freq - 1):    # print every 2000 mini-batches\n",
    "                print(f'[{epoch + 1}, {i + 1:5d}] loss: {running_loss / print_freq:.3f} acc: {100*running_correct / running_total:.2f} time: {time.time() - start_time:.2f}')\n",
    "                running_loss, running_correct, running_total = 0.0, 0.0, 0.0\n",
    "                start_time = time.time()\n",
    "\n",
    "        # TODO: Run the run_test() function after each epoch; Set the model to the evaluation mode.\n",
    "        #\n",
    "        #\n",
    "        net.eval()\n",
    "        run_test(net, testloader, criterion, task)\n",
    "\n",
    "    print('Finished Training')"
   ]
  },
  {
   "cell_type": "code",
   "execution_count": 15,
   "metadata": {
    "colab": {
     "base_uri": "https://localhost:8080/",
     "height": 0
    },
    "id": "g0YRAr-A8yEE",
    "outputId": "a38259c9-0c7a-4e89-b3a3-ee155e3bca92",
    "scrolled": false
   },
   "outputs": [
    {
     "data": {
      "text/plain": [
       "ResNet(\n",
       "  (conv1): Conv2d(3, 64, kernel_size=(7, 7), stride=(2, 2), padding=(3, 3), bias=False)\n",
       "  (bn1): BatchNorm2d(64, eps=1e-05, momentum=0.1, affine=True, track_running_stats=True)\n",
       "  (relu): ReLU(inplace=True)\n",
       "  (maxpool): MaxPool2d(kernel_size=3, stride=2, padding=1, dilation=1, ceil_mode=False)\n",
       "  (layer1): Sequential(\n",
       "    (0): Bottleneck(\n",
       "      (conv1): Conv2d(64, 64, kernel_size=(1, 1), stride=(1, 1), bias=False)\n",
       "      (bn1): BatchNorm2d(64, eps=1e-05, momentum=0.1, affine=True, track_running_stats=True)\n",
       "      (conv2): Conv2d(64, 64, kernel_size=(3, 3), stride=(1, 1), padding=(1, 1), bias=False)\n",
       "      (bn2): BatchNorm2d(64, eps=1e-05, momentum=0.1, affine=True, track_running_stats=True)\n",
       "      (conv3): Conv2d(64, 256, kernel_size=(1, 1), stride=(1, 1), bias=False)\n",
       "      (bn3): BatchNorm2d(256, eps=1e-05, momentum=0.1, affine=True, track_running_stats=True)\n",
       "      (relu): ReLU(inplace=True)\n",
       "      (downsample): Sequential(\n",
       "        (0): Conv2d(64, 256, kernel_size=(1, 1), stride=(1, 1), bias=False)\n",
       "        (1): BatchNorm2d(256, eps=1e-05, momentum=0.1, affine=True, track_running_stats=True)\n",
       "      )\n",
       "    )\n",
       "    (1): Bottleneck(\n",
       "      (conv1): Conv2d(256, 64, kernel_size=(1, 1), stride=(1, 1), bias=False)\n",
       "      (bn1): BatchNorm2d(64, eps=1e-05, momentum=0.1, affine=True, track_running_stats=True)\n",
       "      (conv2): Conv2d(64, 64, kernel_size=(3, 3), stride=(1, 1), padding=(1, 1), bias=False)\n",
       "      (bn2): BatchNorm2d(64, eps=1e-05, momentum=0.1, affine=True, track_running_stats=True)\n",
       "      (conv3): Conv2d(64, 256, kernel_size=(1, 1), stride=(1, 1), bias=False)\n",
       "      (bn3): BatchNorm2d(256, eps=1e-05, momentum=0.1, affine=True, track_running_stats=True)\n",
       "      (relu): ReLU(inplace=True)\n",
       "    )\n",
       "    (2): Bottleneck(\n",
       "      (conv1): Conv2d(256, 64, kernel_size=(1, 1), stride=(1, 1), bias=False)\n",
       "      (bn1): BatchNorm2d(64, eps=1e-05, momentum=0.1, affine=True, track_running_stats=True)\n",
       "      (conv2): Conv2d(64, 64, kernel_size=(3, 3), stride=(1, 1), padding=(1, 1), bias=False)\n",
       "      (bn2): BatchNorm2d(64, eps=1e-05, momentum=0.1, affine=True, track_running_stats=True)\n",
       "      (conv3): Conv2d(64, 256, kernel_size=(1, 1), stride=(1, 1), bias=False)\n",
       "      (bn3): BatchNorm2d(256, eps=1e-05, momentum=0.1, affine=True, track_running_stats=True)\n",
       "      (relu): ReLU(inplace=True)\n",
       "    )\n",
       "  )\n",
       "  (layer2): Sequential(\n",
       "    (0): Bottleneck(\n",
       "      (conv1): Conv2d(256, 128, kernel_size=(1, 1), stride=(1, 1), bias=False)\n",
       "      (bn1): BatchNorm2d(128, eps=1e-05, momentum=0.1, affine=True, track_running_stats=True)\n",
       "      (conv2): Conv2d(128, 128, kernel_size=(3, 3), stride=(2, 2), padding=(1, 1), bias=False)\n",
       "      (bn2): BatchNorm2d(128, eps=1e-05, momentum=0.1, affine=True, track_running_stats=True)\n",
       "      (conv3): Conv2d(128, 512, kernel_size=(1, 1), stride=(1, 1), bias=False)\n",
       "      (bn3): BatchNorm2d(512, eps=1e-05, momentum=0.1, affine=True, track_running_stats=True)\n",
       "      (relu): ReLU(inplace=True)\n",
       "      (downsample): Sequential(\n",
       "        (0): Conv2d(256, 512, kernel_size=(1, 1), stride=(2, 2), bias=False)\n",
       "        (1): BatchNorm2d(512, eps=1e-05, momentum=0.1, affine=True, track_running_stats=True)\n",
       "      )\n",
       "    )\n",
       "    (1): Bottleneck(\n",
       "      (conv1): Conv2d(512, 128, kernel_size=(1, 1), stride=(1, 1), bias=False)\n",
       "      (bn1): BatchNorm2d(128, eps=1e-05, momentum=0.1, affine=True, track_running_stats=True)\n",
       "      (conv2): Conv2d(128, 128, kernel_size=(3, 3), stride=(1, 1), padding=(1, 1), bias=False)\n",
       "      (bn2): BatchNorm2d(128, eps=1e-05, momentum=0.1, affine=True, track_running_stats=True)\n",
       "      (conv3): Conv2d(128, 512, kernel_size=(1, 1), stride=(1, 1), bias=False)\n",
       "      (bn3): BatchNorm2d(512, eps=1e-05, momentum=0.1, affine=True, track_running_stats=True)\n",
       "      (relu): ReLU(inplace=True)\n",
       "    )\n",
       "    (2): Bottleneck(\n",
       "      (conv1): Conv2d(512, 128, kernel_size=(1, 1), stride=(1, 1), bias=False)\n",
       "      (bn1): BatchNorm2d(128, eps=1e-05, momentum=0.1, affine=True, track_running_stats=True)\n",
       "      (conv2): Conv2d(128, 128, kernel_size=(3, 3), stride=(1, 1), padding=(1, 1), bias=False)\n",
       "      (bn2): BatchNorm2d(128, eps=1e-05, momentum=0.1, affine=True, track_running_stats=True)\n",
       "      (conv3): Conv2d(128, 512, kernel_size=(1, 1), stride=(1, 1), bias=False)\n",
       "      (bn3): BatchNorm2d(512, eps=1e-05, momentum=0.1, affine=True, track_running_stats=True)\n",
       "      (relu): ReLU(inplace=True)\n",
       "    )\n",
       "    (3): Bottleneck(\n",
       "      (conv1): Conv2d(512, 128, kernel_size=(1, 1), stride=(1, 1), bias=False)\n",
       "      (bn1): BatchNorm2d(128, eps=1e-05, momentum=0.1, affine=True, track_running_stats=True)\n",
       "      (conv2): Conv2d(128, 128, kernel_size=(3, 3), stride=(1, 1), padding=(1, 1), bias=False)\n",
       "      (bn2): BatchNorm2d(128, eps=1e-05, momentum=0.1, affine=True, track_running_stats=True)\n",
       "      (conv3): Conv2d(128, 512, kernel_size=(1, 1), stride=(1, 1), bias=False)\n",
       "      (bn3): BatchNorm2d(512, eps=1e-05, momentum=0.1, affine=True, track_running_stats=True)\n",
       "      (relu): ReLU(inplace=True)\n",
       "    )\n",
       "  )\n",
       "  (layer3): Sequential(\n",
       "    (0): Bottleneck(\n",
       "      (conv1): Conv2d(512, 256, kernel_size=(1, 1), stride=(1, 1), bias=False)\n",
       "      (bn1): BatchNorm2d(256, eps=1e-05, momentum=0.1, affine=True, track_running_stats=True)\n",
       "      (conv2): Conv2d(256, 256, kernel_size=(3, 3), stride=(2, 2), padding=(1, 1), bias=False)\n",
       "      (bn2): BatchNorm2d(256, eps=1e-05, momentum=0.1, affine=True, track_running_stats=True)\n",
       "      (conv3): Conv2d(256, 1024, kernel_size=(1, 1), stride=(1, 1), bias=False)\n",
       "      (bn3): BatchNorm2d(1024, eps=1e-05, momentum=0.1, affine=True, track_running_stats=True)\n",
       "      (relu): ReLU(inplace=True)\n",
       "      (downsample): Sequential(\n",
       "        (0): Conv2d(512, 1024, kernel_size=(1, 1), stride=(2, 2), bias=False)\n",
       "        (1): BatchNorm2d(1024, eps=1e-05, momentum=0.1, affine=True, track_running_stats=True)\n",
       "      )\n",
       "    )\n",
       "    (1): Bottleneck(\n",
       "      (conv1): Conv2d(1024, 256, kernel_size=(1, 1), stride=(1, 1), bias=False)\n",
       "      (bn1): BatchNorm2d(256, eps=1e-05, momentum=0.1, affine=True, track_running_stats=True)\n",
       "      (conv2): Conv2d(256, 256, kernel_size=(3, 3), stride=(1, 1), padding=(1, 1), bias=False)\n",
       "      (bn2): BatchNorm2d(256, eps=1e-05, momentum=0.1, affine=True, track_running_stats=True)\n",
       "      (conv3): Conv2d(256, 1024, kernel_size=(1, 1), stride=(1, 1), bias=False)\n",
       "      (bn3): BatchNorm2d(1024, eps=1e-05, momentum=0.1, affine=True, track_running_stats=True)\n",
       "      (relu): ReLU(inplace=True)\n",
       "    )\n",
       "    (2): Bottleneck(\n",
       "      (conv1): Conv2d(1024, 256, kernel_size=(1, 1), stride=(1, 1), bias=False)\n",
       "      (bn1): BatchNorm2d(256, eps=1e-05, momentum=0.1, affine=True, track_running_stats=True)\n",
       "      (conv2): Conv2d(256, 256, kernel_size=(3, 3), stride=(1, 1), padding=(1, 1), bias=False)\n",
       "      (bn2): BatchNorm2d(256, eps=1e-05, momentum=0.1, affine=True, track_running_stats=True)\n",
       "      (conv3): Conv2d(256, 1024, kernel_size=(1, 1), stride=(1, 1), bias=False)\n",
       "      (bn3): BatchNorm2d(1024, eps=1e-05, momentum=0.1, affine=True, track_running_stats=True)\n",
       "      (relu): ReLU(inplace=True)\n",
       "    )\n",
       "    (3): Bottleneck(\n",
       "      (conv1): Conv2d(1024, 256, kernel_size=(1, 1), stride=(1, 1), bias=False)\n",
       "      (bn1): BatchNorm2d(256, eps=1e-05, momentum=0.1, affine=True, track_running_stats=True)\n",
       "      (conv2): Conv2d(256, 256, kernel_size=(3, 3), stride=(1, 1), padding=(1, 1), bias=False)\n",
       "      (bn2): BatchNorm2d(256, eps=1e-05, momentum=0.1, affine=True, track_running_stats=True)\n",
       "      (conv3): Conv2d(256, 1024, kernel_size=(1, 1), stride=(1, 1), bias=False)\n",
       "      (bn3): BatchNorm2d(1024, eps=1e-05, momentum=0.1, affine=True, track_running_stats=True)\n",
       "      (relu): ReLU(inplace=True)\n",
       "    )\n",
       "    (4): Bottleneck(\n",
       "      (conv1): Conv2d(1024, 256, kernel_size=(1, 1), stride=(1, 1), bias=False)\n",
       "      (bn1): BatchNorm2d(256, eps=1e-05, momentum=0.1, affine=True, track_running_stats=True)\n",
       "      (conv2): Conv2d(256, 256, kernel_size=(3, 3), stride=(1, 1), padding=(1, 1), bias=False)\n",
       "      (bn2): BatchNorm2d(256, eps=1e-05, momentum=0.1, affine=True, track_running_stats=True)\n",
       "      (conv3): Conv2d(256, 1024, kernel_size=(1, 1), stride=(1, 1), bias=False)\n",
       "      (bn3): BatchNorm2d(1024, eps=1e-05, momentum=0.1, affine=True, track_running_stats=True)\n",
       "      (relu): ReLU(inplace=True)\n",
       "    )\n",
       "    (5): Bottleneck(\n",
       "      (conv1): Conv2d(1024, 256, kernel_size=(1, 1), stride=(1, 1), bias=False)\n",
       "      (bn1): BatchNorm2d(256, eps=1e-05, momentum=0.1, affine=True, track_running_stats=True)\n",
       "      (conv2): Conv2d(256, 256, kernel_size=(3, 3), stride=(1, 1), padding=(1, 1), bias=False)\n",
       "      (bn2): BatchNorm2d(256, eps=1e-05, momentum=0.1, affine=True, track_running_stats=True)\n",
       "      (conv3): Conv2d(256, 1024, kernel_size=(1, 1), stride=(1, 1), bias=False)\n",
       "      (bn3): BatchNorm2d(1024, eps=1e-05, momentum=0.1, affine=True, track_running_stats=True)\n",
       "      (relu): ReLU(inplace=True)\n",
       "    )\n",
       "  )\n",
       "  (layer4): Sequential(\n",
       "    (0): Bottleneck(\n",
       "      (conv1): Conv2d(1024, 512, kernel_size=(1, 1), stride=(1, 1), bias=False)\n",
       "      (bn1): BatchNorm2d(512, eps=1e-05, momentum=0.1, affine=True, track_running_stats=True)\n",
       "      (conv2): Conv2d(512, 512, kernel_size=(3, 3), stride=(2, 2), padding=(1, 1), bias=False)\n",
       "      (bn2): BatchNorm2d(512, eps=1e-05, momentum=0.1, affine=True, track_running_stats=True)\n",
       "      (conv3): Conv2d(512, 2048, kernel_size=(1, 1), stride=(1, 1), bias=False)\n",
       "      (bn3): BatchNorm2d(2048, eps=1e-05, momentum=0.1, affine=True, track_running_stats=True)\n",
       "      (relu): ReLU(inplace=True)\n",
       "      (downsample): Sequential(\n",
       "        (0): Conv2d(1024, 2048, kernel_size=(1, 1), stride=(2, 2), bias=False)\n",
       "        (1): BatchNorm2d(2048, eps=1e-05, momentum=0.1, affine=True, track_running_stats=True)\n",
       "      )\n",
       "    )\n",
       "    (1): Bottleneck(\n",
       "      (conv1): Conv2d(2048, 512, kernel_size=(1, 1), stride=(1, 1), bias=False)\n",
       "      (bn1): BatchNorm2d(512, eps=1e-05, momentum=0.1, affine=True, track_running_stats=True)\n",
       "      (conv2): Conv2d(512, 512, kernel_size=(3, 3), stride=(1, 1), padding=(1, 1), bias=False)\n",
       "      (bn2): BatchNorm2d(512, eps=1e-05, momentum=0.1, affine=True, track_running_stats=True)\n",
       "      (conv3): Conv2d(512, 2048, kernel_size=(1, 1), stride=(1, 1), bias=False)\n",
       "      (bn3): BatchNorm2d(2048, eps=1e-05, momentum=0.1, affine=True, track_running_stats=True)\n",
       "      (relu): ReLU(inplace=True)\n",
       "    )\n",
       "    (2): Bottleneck(\n",
       "      (conv1): Conv2d(2048, 512, kernel_size=(1, 1), stride=(1, 1), bias=False)\n",
       "      (bn1): BatchNorm2d(512, eps=1e-05, momentum=0.1, affine=True, track_running_stats=True)\n",
       "      (conv2): Conv2d(512, 512, kernel_size=(3, 3), stride=(1, 1), padding=(1, 1), bias=False)\n",
       "      (bn2): BatchNorm2d(512, eps=1e-05, momentum=0.1, affine=True, track_running_stats=True)\n",
       "      (conv3): Conv2d(512, 2048, kernel_size=(1, 1), stride=(1, 1), bias=False)\n",
       "      (bn3): BatchNorm2d(2048, eps=1e-05, momentum=0.1, affine=True, track_running_stats=True)\n",
       "      (relu): ReLU(inplace=True)\n",
       "    )\n",
       "  )\n",
       "  (avgpool): AdaptiveAvgPool2d(output_size=(1, 1))\n",
       "  (fc): Linear(in_features=2048, out_features=10, bias=True)\n",
       ")"
      ]
     },
     "execution_count": 15,
     "metadata": {},
     "output_type": "execute_result"
    }
   ],
   "source": [
    "device = torch.device(\"cuda:0\" if torch.cuda.is_available() else \"cpu\")\n",
    "net.to(device)"
   ]
  },
  {
   "cell_type": "code",
   "execution_count": null,
   "metadata": {
    "id": "c_PNpXD9xxL1"
   },
   "outputs": [],
   "source": [
    "train(net, criterion, optimizer, num_epochs=4, decay_epochs=5, init_lr=0.01, task='classification')\n"
   ]
  },
  {
   "cell_type": "markdown",
   "metadata": {
    "id": "39BA-f2X5ewe"
   },
   "source": [
    "We have trained both"
   ]
  },
  {
   "cell_type": "code",
   "execution_count": 6,
   "metadata": {
    "colab": {
     "base_uri": "https://localhost:8080/",
     "height": 0
    },
    "id": "ev15xA1fxvup",
    "outputId": "bfb06822-53f4-463e-bd1c-b0f0d9a0ed7b"
   },
   "outputs": [
    {
     "name": "stdout",
     "output_type": "stream",
     "text": [
      "Epoch 1/10, Loss: 0.8177, Accuracy: 62.93%\n",
      "Epoch 2/10, Loss: 0.3756, Accuracy: 85.67%\n",
      "Epoch 3/10, Loss: 0.2964, Accuracy: 89.21%\n",
      "Epoch 4/10, Loss: 0.2598, Accuracy: 90.52%\n",
      "Epoch 5/10, Loss: 0.2168, Accuracy: 91.95%\n",
      "Epoch 6/10, Loss: 0.1750, Accuracy: 93.64%\n",
      "Epoch 7/10, Loss: 0.1587, Accuracy: 94.43%\n",
      "Epoch 8/10, Loss: 0.1389, Accuracy: 95.28%\n",
      "Epoch 9/10, Loss: 0.1303, Accuracy: 95.63%\n",
      "Epoch 10/10, Loss: 0.1152, Accuracy: 95.91%\n",
      "Finished training the rotation prediction model.\n"
     ]
    }
   ],
   "source": [
    "import os\n",
    "import numpy as np\n",
    "import torch\n",
    "import torch.nn as nn\n",
    "import torchvision.transforms as transforms\n",
    "from torch.utils.data import Dataset, DataLoader\n",
    "from torchvision.datasets import ImageFolder\n",
    "import torchvision.models as models\n",
    "from PIL import Image\n",
    "\n",
    "# 1. Download the ImageNette dataset\n",
    "# Go to https://github.com/fastai/imagenette and follow the instructions to download the dataset\n",
    "\n",
    "# 2. Create a custom dataset loader\n",
    "class ImageNetteRotDataset(Dataset):\n",
    "    def __init__(self, root, transform=None):\n",
    "        self.data = ImageFolder(root)\n",
    "        self.transform = transform\n",
    "\n",
    "    def __len__(self):\n",
    "        return len(self.data)\n",
    "\n",
    "    def __getitem__(self, index):\n",
    "        img, _ = self.data[index]\n",
    "        rot_label = np.random.choice([0, 1, 2, 3])\n",
    "        img = img.rotate(90 * rot_label)\n",
    "\n",
    "        if self.transform:\n",
    "            img = self.transform(img)\n",
    "\n",
    "        return img, rot_label\n",
    "\n",
    "# 3. Prepare data transformations\n",
    "data_transforms = transforms.Compose([\n",
    "    transforms.Resize(224),\n",
    "    transforms.CenterCrop(224),\n",
    "    transforms.ToTensor(),\n",
    "    transforms.Normalize(mean=[0.485, 0.456, 0.406], std=[0.229, 0.224, 0.225])\n",
    "])\n",
    "\n",
    "# Set the dataset path\n",
    "imagenette_train_path = '/content/drive/MyDrive/assignment3_starter/assignment3_part1/imagenette2-160/train'\n",
    "\n",
    "# 4. Instantiate the model\n",
    "resnet50 = models.resnet50(pretrained=True)\n",
    "num_features = resnet50.fc.in_features\n",
    "resnet50.fc = nn.Linear(num_features, 4)\n",
    "\n",
    "# 5. Train the model on the rotation prediction task\n",
    "device = torch.device('cuda' if torch.cuda.is_available() else 'cpu')\n",
    "resnet50 = resnet50.to(device)\n",
    "criterion = nn.CrossEntropyLoss()\n",
    "optimizer = torch.optim.SGD(resnet50.parameters(), lr=0.001, momentum=0.9)\n",
    "\n",
    "num_epochs = 10\n",
    "train_dataset = ImageNetteRotDataset(imagenette_train_path, transform=data_transforms)\n",
    "train_loader = DataLoader(train_dataset, batch_size=32, shuffle=True, num_workers=4)\n",
    "\n",
    "for epoch in range(num_epochs):\n",
    "    running_loss = 0.0\n",
    "    correct = 0\n",
    "    total = 0\n",
    "    \n",
    "    for i, data in enumerate(train_loader, 0):\n",
    "        inputs, labels = data\n",
    "        inputs, labels = inputs.to(device), labels.to(device)\n",
    "\n",
    "        optimizer.zero_grad()\n",
    "\n",
    "        outputs = resnet50(inputs)\n",
    "        loss = criterion(outputs, labels)\n",
    "        loss.backward()\n",
    "        optimizer.step()\n",
    "\n",
    "        running_loss += loss.item()\n",
    "        _, predicted = torch.max(outputs.data, 1)\n",
    "        total += labels.size(0)\n",
    "        correct += (predicted == labels).sum().item()\n",
    "\n",
    "    epoch_loss = running_loss / (i + 1)\n",
    "    epoch_acc = correct / total * 100\n",
    "    print(f'Epoch {epoch + 1}/{num_epochs}, Loss: {epoch_loss:.4f}, Accuracy: {epoch_acc:.2f}%')\n",
    "\n",
    "print('Finished training the rotation prediction model.')\n"
   ]
  }
 ],
 "metadata": {
  "accelerator": "GPU",
  "colab": {
   "provenance": []
  },
  "gpuClass": "standard",
  "kernelspec": {
   "display_name": "Python 3 (ipykernel)",
   "language": "python",
   "name": "python3"
  },
  "language_info": {
   "codemirror_mode": {
    "name": "ipython",
    "version": 3
   },
   "file_extension": ".py",
   "mimetype": "text/x-python",
   "name": "python",
   "nbconvert_exporter": "python",
   "pygments_lexer": "ipython3",
   "version": "3.7.12"
  }
 },
 "nbformat": 4,
 "nbformat_minor": 1
}
